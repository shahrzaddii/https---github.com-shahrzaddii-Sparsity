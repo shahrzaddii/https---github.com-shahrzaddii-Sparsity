{
 "cells": [
  {
   "attachments": {},
   "cell_type": "markdown",
   "metadata": {},
   "source": [
    "This file is created as a trial of sparsity on a regression example.\n",
    "We consider a dataset with p features and n sample. Dataset is generated over a normal distribution with $\\mu=0$ and $covariance=1$ or $X=N(\\mu, cov)$.\n",
    "The output is also generated based on a linear function including a noise term. "
   ]
  },
  {
   "cell_type": "code",
   "execution_count": 167,
   "metadata": {},
   "outputs": [],
   "source": [
    "import numpy as np\n",
    "\n",
    "RNG = np.random.default_rng(seed=1)\n",
    "\n",
    "p = 2\n",
    "n = 20\n",
    "var = 1\n",
    "\n",
    "cov = var*np.eye(p)\n",
    "mean = np.zeros(p)\n",
    "\n",
    "beta = np.array([1, 0])\n",
    "sigma = 1\n",
    "\n",
    "x = RNG.multivariate_normal(mean, cov, size=n)\n",
    "y = x@beta + RNG.normal(0, sigma**2, size=n)"
   ]
  },
  {
   "cell_type": "code",
   "execution_count": 168,
   "metadata": {},
   "outputs": [],
   "source": [
    "def squared_error(beta):\n",
    "    return np.linalg.norm(x.dot(np.atleast_2d(beta).T) - y.reshape(-1, 1), axis=0)**2"
   ]
  },
  {
   "cell_type": "code",
   "execution_count": 169,
   "metadata": {},
   "outputs": [
    {
     "data": {
      "text/plain": [
       "array([10.26943722])"
      ]
     },
     "execution_count": 169,
     "metadata": {},
     "output_type": "execute_result"
    }
   ],
   "source": [
    "squared_error(beta)"
   ]
  },
  {
   "cell_type": "code",
   "execution_count": 202,
   "metadata": {},
   "outputs": [
    {
     "ename": "AttributeError",
     "evalue": "'list' object has no attribute 'shape'",
     "output_type": "error",
     "traceback": [
      "\u001b[0;31m---------------------------------------------------------------------------\u001b[0m",
      "\u001b[0;31mAttributeError\u001b[0m                            Traceback (most recent call last)",
      "Cell \u001b[0;32mIn[202], line 1\u001b[0m\n\u001b[0;32m----> 1\u001b[0m _beta1\u001b[39m.\u001b[39;49mshape\n",
      "\u001b[0;31mAttributeError\u001b[0m: 'list' object has no attribute 'shape'"
     ]
    }
   ],
   "source": [
    "_betea"
   ]
  },
  {
   "cell_type": "code",
   "execution_count": 203,
   "metadata": {},
   "outputs": [
    {
     "data": {
      "text/plain": [
       "array([[[-2.        , -2.        ],\n",
       "        [-1.95959596, -2.        ],\n",
       "        [-1.91919192, -2.        ],\n",
       "        ...,\n",
       "        [ 1.91919192, -2.        ],\n",
       "        [ 1.95959596, -2.        ],\n",
       "        [ 2.        , -2.        ]],\n",
       "\n",
       "       [[-2.        , -1.95959596],\n",
       "        [-1.95959596, -1.95959596],\n",
       "        [-1.91919192, -1.95959596],\n",
       "        ...,\n",
       "        [ 1.91919192, -1.95959596],\n",
       "        [ 1.95959596, -1.95959596],\n",
       "        [ 2.        , -1.95959596]],\n",
       "\n",
       "       [[-2.        , -1.91919192],\n",
       "        [-1.95959596, -1.91919192],\n",
       "        [-1.91919192, -1.91919192],\n",
       "        ...,\n",
       "        [ 1.91919192, -1.91919192],\n",
       "        [ 1.95959596, -1.91919192],\n",
       "        [ 2.        , -1.91919192]],\n",
       "\n",
       "       ...,\n",
       "\n",
       "       [[-2.        ,  1.91919192],\n",
       "        [-1.95959596,  1.91919192],\n",
       "        [-1.91919192,  1.91919192],\n",
       "        ...,\n",
       "        [ 1.91919192,  1.91919192],\n",
       "        [ 1.95959596,  1.91919192],\n",
       "        [ 2.        ,  1.91919192]],\n",
       "\n",
       "       [[-2.        ,  1.95959596],\n",
       "        [-1.95959596,  1.95959596],\n",
       "        [-1.91919192,  1.95959596],\n",
       "        ...,\n",
       "        [ 1.91919192,  1.95959596],\n",
       "        [ 1.95959596,  1.95959596],\n",
       "        [ 2.        ,  1.95959596]],\n",
       "\n",
       "       [[-2.        ,  2.        ],\n",
       "        [-1.95959596,  2.        ],\n",
       "        [-1.91919192,  2.        ],\n",
       "        ...,\n",
       "        [ 1.91919192,  2.        ],\n",
       "        [ 1.95959596,  2.        ],\n",
       "        [ 2.        ,  2.        ]]])"
      ]
     },
     "execution_count": 203,
     "metadata": {},
     "output_type": "execute_result"
    }
   ],
   "source": [
    "_beta1 = np.meshgrid(np.linspace(-2, 2, 100), np.linspace(-2, 2, 100))[0]\n",
    "_beta2 = np.meshgrid(np.linspace(-2, 2, 100), np.linspace(-2, 2, 100))[1]\n",
    "_beta = np.dstack((_beta1, _beta2))\n",
    "_beta"
   ]
  },
  {
   "cell_type": "code",
   "execution_count": 204,
   "metadata": {},
   "outputs": [
    {
     "data": {
      "text/plain": [
       "(100, 100, 2)"
      ]
     },
     "execution_count": 204,
     "metadata": {},
     "output_type": "execute_result"
    }
   ],
   "source": [
    "_beta.shape"
   ]
  },
  {
   "cell_type": "code",
   "execution_count": 205,
   "metadata": {},
   "outputs": [
    {
     "ename": "ValueError",
     "evalue": "shapes (20,2) and (2,100,100) not aligned: 2 (dim 1) != 100 (dim 1)",
     "output_type": "error",
     "traceback": [
      "\u001b[0;31m---------------------------------------------------------------------------\u001b[0m",
      "\u001b[0;31mValueError\u001b[0m                                Traceback (most recent call last)",
      "Cell \u001b[0;32mIn[205], line 1\u001b[0m\n\u001b[0;32m----> 1\u001b[0m squared_error(_beta)\n",
      "Cell \u001b[0;32mIn[168], line 2\u001b[0m, in \u001b[0;36msquared_error\u001b[0;34m(beta)\u001b[0m\n\u001b[1;32m      1\u001b[0m \u001b[39mdef\u001b[39;00m \u001b[39msquared_error\u001b[39m(beta):\n\u001b[0;32m----> 2\u001b[0m     \u001b[39mreturn\u001b[39;00m np\u001b[39m.\u001b[39mlinalg\u001b[39m.\u001b[39mnorm(x\u001b[39m.\u001b[39;49mdot(np\u001b[39m.\u001b[39;49matleast_2d(beta)\u001b[39m.\u001b[39;49mT) \u001b[39m-\u001b[39m y\u001b[39m.\u001b[39mreshape(\u001b[39m-\u001b[39m\u001b[39m1\u001b[39m, \u001b[39m1\u001b[39m), axis\u001b[39m=\u001b[39m\u001b[39m0\u001b[39m)\u001b[39m*\u001b[39m\u001b[39m*\u001b[39m\u001b[39m2\u001b[39m\n",
      "\u001b[0;31mValueError\u001b[0m: shapes (20,2) and (2,100,100) not aligned: 2 (dim 1) != 100 (dim 1)"
     ]
    }
   ],
   "source": [
    "squared_error(_beta)"
   ]
  },
  {
   "cell_type": "code",
   "execution_count": 186,
   "metadata": {},
   "outputs": [
    {
     "data": {
      "text/plain": [
       "array([0.62441303, 0.20780253])"
      ]
     },
     "execution_count": 186,
     "metadata": {},
     "output_type": "execute_result"
    }
   ],
   "source": [
    "beta_hat = np.linalg.solve(x.T.dot(x), x.T.dot(y))\n",
    "beta_hat"
   ]
  },
  {
   "cell_type": "code",
   "execution_count": null,
   "metadata": {},
   "outputs": [],
   "source": []
  },
  {
   "cell_type": "code",
   "execution_count": 172,
   "metadata": {},
   "outputs": [
    {
     "data": {
      "text/plain": [
       "(array([266.8733238 , 262.37703272, 257.93721797, ..., 114.64624143,\n",
       "        117.1792949 , 119.76882472]),\n",
       " array([270.8733238 , 266.33662867, 261.85640989, ..., 118.56543334,\n",
       "        121.13889086, 123.76882472]))"
      ]
     },
     "execution_count": 172,
     "metadata": {},
     "output_type": "execute_result"
    }
   ],
   "source": [
    "from numpy.linalg import norm\n",
    "\n",
    "alpha=1.0\n",
    "\n",
    "def regularised_error(beta):\n",
    "    return squared_error(beta) + alpha*norm(np.atleast_2d(beta), 1, axis=1)\n",
    "\n",
    "squared_error(_beta), regularised_error(_beta)"
   ]
  },
  {
   "cell_type": "code",
   "execution_count": 208,
   "metadata": {},
   "outputs": [
    {
     "ename": "ValueError",
     "evalue": "cannot reshape array of size 200 into shape (100,100)",
     "output_type": "error",
     "traceback": [
      "\u001b[0;31m---------------------------------------------------------------------------\u001b[0m",
      "\u001b[0;31mValueError\u001b[0m                                Traceback (most recent call last)",
      "Cell \u001b[0;32mIn[208], line 12\u001b[0m\n\u001b[1;32m      6\u001b[0m axs[\u001b[39m0\u001b[39m]\u001b[39m.\u001b[39mset_ylabel(\u001b[39m'\u001b[39m\u001b[39m$x_2$\u001b[39m\u001b[39m'\u001b[39m)\n\u001b[1;32m      7\u001b[0m \u001b[39m# axs[1].contourf(_beta[:, 0].reshape(100, 100), _beta[:, 1].reshape(100, 100), errors.reshape(100, 100), levels=50, cmap='Reds')\u001b[39;00m\n\u001b[1;32m      8\u001b[0m \u001b[39m# axs[1].contour(_beta[:, 0].reshape(100, 100), _beta[:, 1].reshape(100, 100), errors.reshape(100, 100), levels=200, color='black')\u001b[39;00m\n\u001b[1;32m      9\u001b[0m \u001b[39m# axs[1].scatter(beta[0], beta[1], marker='*', color='black')\u001b[39;00m\n\u001b[1;32m     10\u001b[0m \u001b[39m# axs[1].scatter(beta_hat[0], beta_hat[1], marker='x', color='black')\u001b[39;00m\n\u001b[0;32m---> 12\u001b[0m axs[\u001b[39m2\u001b[39m]\u001b[39m.\u001b[39mcontourf(_beta[:, \u001b[39m0\u001b[39;49m]\u001b[39m.\u001b[39;49mreshape(\u001b[39m100\u001b[39;49m, \u001b[39m100\u001b[39;49m), _beta[:, \u001b[39m1\u001b[39m]\u001b[39m.\u001b[39mreshape(\u001b[39m100\u001b[39m, \u001b[39m100\u001b[39m), regularised_error(_beta)\u001b[39m.\u001b[39mreshape(\u001b[39m100\u001b[39m, \u001b[39m100\u001b[39m), levels\u001b[39m=\u001b[39m\u001b[39m50\u001b[39m, cmap\u001b[39m=\u001b[39m\u001b[39m'\u001b[39m\u001b[39mReds\u001b[39m\u001b[39m'\u001b[39m)\n\u001b[1;32m     14\u001b[0m plt\u001b[39m.\u001b[39mshow()\n",
      "\u001b[0;31mValueError\u001b[0m: cannot reshape array of size 200 into shape (100,100)"
     ]
    },
    {
     "data": {
      "image/png": "[encoded data removed]",
      "text/plain": [
       "<Figure size 1200x400 with 3 Axes>"
      ]
     },
     "metadata": {},
     "output_type": "display_data"
    }
   ],
   "source": [
    "from matplotlib import pyplot as plt\n",
    "\n",
    "_, axs = plt.subplots(1, 3, figsize=(12, 4))\n",
    "axs[0].scatter(x[:, 0], x[:, 1], c=y, edgecolors='black')\n",
    "axs[0].set_xlabel('$x_1$')\n",
    "axs[0].set_ylabel('$x_2$')\n",
    "# axs[1].contourf(_beta[:, 0].reshape(100, 100), _beta[:, 1].reshape(100, 100), errors.reshape(100, 100), levels=50, cmap='Reds')\n",
    "# axs[1].contour(_beta[:, 0].reshape(100, 100), _beta[:, 1].reshape(100, 100), errors.reshape(100, 100), levels=200, color='black')\n",
    "# axs[1].scatter(beta[0], beta[1], marker='*', color='black')\n",
    "# axs[1].scatter(beta_hat[0], beta_hat[1], marker='x', color='black')\n",
    "\n",
    "axs[2].contourf(_beta[:, 0].reshape(100, 100), _beta[:, 1].reshape(100, 100), regularised_error(_beta).reshape(100, 100), levels=50, cmap='Reds')\n",
    "\n",
    "plt.show()"
   ]
  },
  {
   "cell_type": "code",
   "execution_count": 192,
   "metadata": {},
   "outputs": [
    {
     "data": {
      "text/plain": [
       "array([9.12832593])"
      ]
     },
     "execution_count": 192,
     "metadata": {},
     "output_type": "execute_result"
    }
   ],
   "source": [
    "squared_error(_beta[np.argmin(errors)])"
   ]
  },
  {
   "cell_type": "code",
   "execution_count": 193,
   "metadata": {},
   "outputs": [
    {
     "data": {
      "text/plain": [
       "array([7.83167108])"
      ]
     },
     "execution_count": 193,
     "metadata": {},
     "output_type": "execute_result"
    }
   ],
   "source": [
    "squared_error(beta_hat)"
   ]
  }
 ],
 "metadata": {
  "kernelspec": {
   "display_name": "Python 3",
   "language": "python",
   "name": "python3"
  },
  "language_info": {
   "codemirror_mode": {
    "name": "ipython",
    "version": 3
   },
   "file_extension": ".py",
   "mimetype": "text/x-python",
   "name": "python",
   "nbconvert_exporter": "python",
   "pygments_lexer": "ipython3",
   "version": "3.9.6"
  },
  "orig_nbformat": 4
 },
 "nbformat": 4,
 "nbformat_minor": 2
}
