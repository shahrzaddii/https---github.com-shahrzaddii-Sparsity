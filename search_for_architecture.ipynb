{
 "cells": [
  {
   "cell_type": "code",
   "execution_count": 1,
   "metadata": {},
   "outputs": [
    {
     "name": "stderr",
     "output_type": "stream",
     "text": [
      "/Library/Frameworks/Python.framework/Versions/3.10/lib/python3.10/site-packages/tqdm/auto.py:21: TqdmWarning: IProgress not found. Please update jupyter and ipywidgets. See https://ipywidgets.readthedocs.io/en/stable/user_install.html\n",
      "  from .autonotebook import tqdm as notebook_tqdm\n"
     ]
    }
   ],
   "source": [
    "import numpy as np\n",
    "import torch\n",
    "import torch.nn as nn\n",
    "from torch.utils.data import Dataset, DataLoader, TensorDataset\n",
    "import matplotlib.pyplot as plt\n",
    "from mpl_toolkits import mplot3d\n",
    "import pandas as pd\n",
    "from sklearn.model_selection import LeaveOneOut, KFold\n",
    "from binaryapproximator import *\n",
    "from sklearn.metrics import zero_one_loss, log_loss\n",
    "import optuna"
   ]
  },
  {
   "cell_type": "code",
   "execution_count": 7,
   "metadata": {},
   "outputs": [],
   "source": [
    "octet = pd.read_csv('octet.csv')\n",
    "octet_selected = octet[['sign(Delta E)', 'Delta E', 'IP(A)', 'EA(A)', 'H(A)', 'L(A)', 'rs(A)', 'rp(A)', 'rd(A)', 'IP(B)', 'EA(B)', 'H(B)', 'L(B)', 'rs(B)', 'rp(B)', 'rd(B)', 'EN(A)', 'EN(B)']]\n",
    "X = octet_selected[['IP(A)', 'EA(A)', 'H(A)', 'L(A)', 'rs(A)', 'rp(A)', 'rd(A)', 'IP(B)', 'EA(B)', 'H(B)', 'L(B)', 'rs(B)', 'rp(B)', 'rd(B)', 'EN(A)', 'EN(B)']].to_numpy()\n",
    "# y_delta = octet_selected[['Delta E']].to_numpy()\n",
    "y = octet_selected[['sign(Delta E)']].to_numpy()\n",
    "y = np.where( y==1, np.float32(1), np.float32(0))"
   ]
  },
  {
   "cell_type": "code",
   "execution_count": 3,
   "metadata": {},
   "outputs": [],
   "source": [
    "input = 16\n",
    "hidden1 = 32\n",
    "hidden2 = 32\n",
    "hidden3 = 32\n",
    "output = 1\n",
    "loss_criterion = nn.BCELoss()\n",
    "loo_cv = LeaveOneOut()"
   ]
  },
  {
   "attachments": {},
   "cell_type": "markdown",
   "metadata": {},
   "source": [
    "# Scenario 0: Regular NN Training\n",
    "1. Initialise the Weights\n",
    "    \n",
    "For each loop:\n",
    "\n",
    "2. $y_{pred} = Model(X,W_t, \\theta_t)$ (Froward Step)\n",
    "3. $loss(y, y_{pred})$ \n",
    "4. $\\nabla_{w_t} = \\frac{\\partial loss}{\\partial W_t}$ and $\\nabla_{\\theta_t} = \\frac{\\partial loss}{\\partial \\theta_t}$ (Backward Step)\n",
    "5. $W_{t+1} = W_t + \\eta \\nabla_{w_t}$ and $\\theta_{t+1} = \\theta_t + \\eta \\nabla_{\\theta_t}$ (Update Step)"
   ]
  },
  {
   "cell_type": "code",
   "execution_count": 16,
   "metadata": {},
   "outputs": [
    {
     "name": "stderr",
     "output_type": "stream",
     "text": [
      "[I 2023-11-28 15:18:46,483] A new study created in memory with name: no-name-4c21df1f-06cb-41d4-9a35-9f386f237264\n",
      "[I 2023-11-28 15:18:50,109] Trial 0 finished with value: 0.0 and parameters: {'hidden_size1': 12, 'hidden_size2': 21, 'hidden_size3': 30}. Best is trial 0 with value: 0.0.\n"
     ]
    },
    {
     "name": "stdout",
     "output_type": "stream",
     "text": [
      "Early stopping at Epoch 6346 due to small gradients.\n"
     ]
    },
    {
     "name": "stderr",
     "output_type": "stream",
     "text": [
      "[I 2023-11-28 15:18:54,094] Trial 1 finished with value: 0.0 and parameters: {'hidden_size1': 14, 'hidden_size2': 24, 'hidden_size3': 31}. Best is trial 0 with value: 0.0.\n"
     ]
    },
    {
     "name": "stdout",
     "output_type": "stream",
     "text": [
      "Early stopping at Epoch 6901 due to small gradients.\n"
     ]
    },
    {
     "name": "stderr",
     "output_type": "stream",
     "text": [
      "[I 2023-11-28 15:18:57,978] Trial 2 finished with value: 0.0 and parameters: {'hidden_size1': 3, 'hidden_size2': 6, 'hidden_size3': 26}. Best is trial 0 with value: 0.0.\n"
     ]
    },
    {
     "name": "stdout",
     "output_type": "stream",
     "text": [
      "Early stopping at Epoch 6847 due to small gradients.\n"
     ]
    },
    {
     "name": "stderr",
     "output_type": "stream",
     "text": [
      "[I 2023-11-28 15:19:03,806] Trial 3 finished with value: 0.0 and parameters: {'hidden_size1': 12, 'hidden_size2': 12, 'hidden_size3': 8}. Best is trial 0 with value: 0.0.\n"
     ]
    },
    {
     "name": "stdout",
     "output_type": "stream",
     "text": [
      "Early stopping at Epoch 10495 due to small gradients.\n"
     ]
    },
    {
     "name": "stderr",
     "output_type": "stream",
     "text": [
      "[I 2023-11-28 15:19:10,953] Trial 4 finished with value: 0.0 and parameters: {'hidden_size1': 17, 'hidden_size2': 2, 'hidden_size3': 11}. Best is trial 0 with value: 0.0.\n"
     ]
    },
    {
     "name": "stdout",
     "output_type": "stream",
     "text": [
      "Early stopping at Epoch 12658 due to small gradients.\n"
     ]
    },
    {
     "name": "stderr",
     "output_type": "stream",
     "text": [
      "[I 2023-11-28 15:19:15,149] Trial 5 finished with value: 0.0 and parameters: {'hidden_size1': 19, 'hidden_size2': 20, 'hidden_size3': 22}. Best is trial 0 with value: 0.0.\n"
     ]
    },
    {
     "name": "stdout",
     "output_type": "stream",
     "text": [
      "Early stopping at Epoch 7379 due to small gradients.\n"
     ]
    },
    {
     "name": "stderr",
     "output_type": "stream",
     "text": [
      "[I 2023-11-28 15:19:24,360] Trial 6 finished with value: 0.0 and parameters: {'hidden_size1': 17, 'hidden_size2': 28, 'hidden_size3': 3}. Best is trial 0 with value: 0.0.\n"
     ]
    },
    {
     "name": "stdout",
     "output_type": "stream",
     "text": [
      "Early stopping at Epoch 16134 due to small gradients.\n"
     ]
    },
    {
     "name": "stderr",
     "output_type": "stream",
     "text": [
      "[I 2023-11-28 15:19:28,850] Trial 7 finished with value: 0.0 and parameters: {'hidden_size1': 6, 'hidden_size2': 29, 'hidden_size3': 16}. Best is trial 0 with value: 0.0.\n"
     ]
    },
    {
     "name": "stdout",
     "output_type": "stream",
     "text": [
      "Early stopping at Epoch 7750 due to small gradients.\n"
     ]
    },
    {
     "name": "stderr",
     "output_type": "stream",
     "text": [
      "[I 2023-11-28 15:19:33,969] Trial 8 finished with value: 0.0 and parameters: {'hidden_size1': 7, 'hidden_size2': 32, 'hidden_size3': 13}. Best is trial 0 with value: 0.0.\n"
     ]
    },
    {
     "name": "stdout",
     "output_type": "stream",
     "text": [
      "Early stopping at Epoch 8934 due to small gradients.\n"
     ]
    },
    {
     "name": "stderr",
     "output_type": "stream",
     "text": [
      "[I 2023-11-28 15:19:43,197] Trial 9 finished with value: 0.0 and parameters: {'hidden_size1': 2, 'hidden_size2': 11, 'hidden_size3': 2}. Best is trial 0 with value: 0.0.\n"
     ]
    },
    {
     "name": "stdout",
     "output_type": "stream",
     "text": [
      "Early stopping at Epoch 16876 due to small gradients.\n"
     ]
    },
    {
     "name": "stderr",
     "output_type": "stream",
     "text": [
      "[I 2023-11-28 15:19:46,944] Trial 10 finished with value: 0.0 and parameters: {'hidden_size1': 30, 'hidden_size2': 17, 'hidden_size3': 31}. Best is trial 0 with value: 0.0.\n"
     ]
    },
    {
     "name": "stdout",
     "output_type": "stream",
     "text": [
      "Early stopping at Epoch 6505 due to small gradients.\n"
     ]
    },
    {
     "name": "stderr",
     "output_type": "stream",
     "text": [
      "[I 2023-11-28 15:19:50,403] Trial 11 finished with value: 0.0 and parameters: {'hidden_size1': 24, 'hidden_size2': 23, 'hidden_size3': 32}. Best is trial 0 with value: 0.0.\n"
     ]
    },
    {
     "name": "stdout",
     "output_type": "stream",
     "text": [
      "Early stopping at Epoch 6018 due to small gradients.\n"
     ]
    },
    {
     "name": "stderr",
     "output_type": "stream",
     "text": [
      "[I 2023-11-28 15:19:54,632] Trial 12 finished with value: 0.0 and parameters: {'hidden_size1': 12, 'hidden_size2': 24, 'hidden_size3': 25}. Best is trial 0 with value: 0.0.\n"
     ]
    },
    {
     "name": "stdout",
     "output_type": "stream",
     "text": [
      "Early stopping at Epoch 7413 due to small gradients.\n"
     ]
    },
    {
     "name": "stderr",
     "output_type": "stream",
     "text": [
      "[I 2023-11-28 15:19:58,697] Trial 13 finished with value: 0.0 and parameters: {'hidden_size1': 12, 'hidden_size2': 17, 'hidden_size3': 21}. Best is trial 0 with value: 0.0.\n"
     ]
    },
    {
     "name": "stdout",
     "output_type": "stream",
     "text": [
      "Early stopping at Epoch 7133 due to small gradients.\n"
     ]
    },
    {
     "name": "stderr",
     "output_type": "stream",
     "text": [
      "[I 2023-11-28 15:20:02,440] Trial 14 finished with value: 0.0 and parameters: {'hidden_size1': 22, 'hidden_size2': 24, 'hidden_size3': 28}. Best is trial 0 with value: 0.0.\n"
     ]
    },
    {
     "name": "stdout",
     "output_type": "stream",
     "text": [
      "Early stopping at Epoch 6577 due to small gradients.\n"
     ]
    },
    {
     "name": "stderr",
     "output_type": "stream",
     "text": [
      "[I 2023-11-28 15:20:06,575] Trial 15 finished with value: 0.0 and parameters: {'hidden_size1': 9, 'hidden_size2': 13, 'hidden_size3': 20}. Best is trial 0 with value: 0.0.\n"
     ]
    },
    {
     "name": "stdout",
     "output_type": "stream",
     "text": [
      "Early stopping at Epoch 7352 due to small gradients.\n"
     ]
    },
    {
     "name": "stderr",
     "output_type": "stream",
     "text": [
      "[I 2023-11-28 15:20:10,305] Trial 16 finished with value: 0.0 and parameters: {'hidden_size1': 15, 'hidden_size2': 20, 'hidden_size3': 29}. Best is trial 0 with value: 0.0.\n"
     ]
    },
    {
     "name": "stdout",
     "output_type": "stream",
     "text": [
      "Early stopping at Epoch 6387 due to small gradients.\n"
     ]
    },
    {
     "name": "stderr",
     "output_type": "stream",
     "text": [
      "[I 2023-11-28 15:20:14,523] Trial 17 finished with value: 0.0 and parameters: {'hidden_size1': 27, 'hidden_size2': 29, 'hidden_size3': 24}. Best is trial 0 with value: 0.0.\n"
     ]
    },
    {
     "name": "stdout",
     "output_type": "stream",
     "text": [
      "Early stopping at Epoch 7329 due to small gradients.\n"
     ]
    },
    {
     "name": "stderr",
     "output_type": "stream",
     "text": [
      "[I 2023-11-28 15:20:18,161] Trial 18 finished with value: 0.0 and parameters: {'hidden_size1': 21, 'hidden_size2': 21, 'hidden_size3': 32}. Best is trial 0 with value: 0.0.\n"
     ]
    },
    {
     "name": "stdout",
     "output_type": "stream",
     "text": [
      "Early stopping at Epoch 6389 due to small gradients.\n"
     ]
    },
    {
     "name": "stderr",
     "output_type": "stream",
     "text": [
      "[I 2023-11-28 15:20:22,754] Trial 19 finished with value: 0.0 and parameters: {'hidden_size1': 14, 'hidden_size2': 27, 'hidden_size3': 18}. Best is trial 0 with value: 0.0.\n"
     ]
    },
    {
     "name": "stdout",
     "output_type": "stream",
     "text": [
      "Early stopping at Epoch 8062 due to small gradients.\n"
     ]
    },
    {
     "name": "stderr",
     "output_type": "stream",
     "text": [
      "[I 2023-11-28 15:20:26,429] Trial 20 finished with value: 0.0 and parameters: {'hidden_size1': 9, 'hidden_size2': 14, 'hidden_size3': 27}. Best is trial 0 with value: 0.0.\n"
     ]
    },
    {
     "name": "stdout",
     "output_type": "stream",
     "text": [
      "Early stopping at Epoch 6425 due to small gradients.\n"
     ]
    },
    {
     "name": "stderr",
     "output_type": "stream",
     "text": [
      "[I 2023-11-28 15:20:29,677] Trial 21 finished with value: 0.0 and parameters: {'hidden_size1': 2, 'hidden_size2': 5, 'hidden_size3': 26}. Best is trial 0 with value: 0.0.\n"
     ]
    },
    {
     "name": "stdout",
     "output_type": "stream",
     "text": [
      "Early stopping at Epoch 5792 due to small gradients.\n"
     ]
    },
    {
     "name": "stderr",
     "output_type": "stream",
     "text": [
      "[I 2023-11-28 15:20:33,641] Trial 22 finished with value: 0.0 and parameters: {'hidden_size1': 5, 'hidden_size2': 7, 'hidden_size3': 29}. Best is trial 0 with value: 0.0.\n"
     ]
    },
    {
     "name": "stdout",
     "output_type": "stream",
     "text": [
      "Early stopping at Epoch 7046 due to small gradients.\n"
     ]
    },
    {
     "name": "stderr",
     "output_type": "stream",
     "text": [
      "[I 2023-11-28 15:20:37,490] Trial 23 finished with value: 0.0 and parameters: {'hidden_size1': 9, 'hidden_size2': 9, 'hidden_size3': 24}. Best is trial 0 with value: 0.0.\n"
     ]
    },
    {
     "name": "stdout",
     "output_type": "stream",
     "text": [
      "Early stopping at Epoch 6796 due to small gradients.\n"
     ]
    },
    {
     "name": "stderr",
     "output_type": "stream",
     "text": [
      "[I 2023-11-28 15:20:41,267] Trial 24 finished with value: 0.0 and parameters: {'hidden_size1': 4, 'hidden_size2': 16, 'hidden_size3': 30}. Best is trial 0 with value: 0.0.\n"
     ]
    },
    {
     "name": "stdout",
     "output_type": "stream",
     "text": [
      "Early stopping at Epoch 6743 due to small gradients.\n"
     ]
    },
    {
     "name": "stderr",
     "output_type": "stream",
     "text": [
      "[I 2023-11-28 15:20:44,682] Trial 25 finished with value: 0.0 and parameters: {'hidden_size1': 14, 'hidden_size2': 25, 'hidden_size3': 27}. Best is trial 0 with value: 0.0.\n"
     ]
    },
    {
     "name": "stdout",
     "output_type": "stream",
     "text": [
      "Early stopping at Epoch 5997 due to small gradients.\n"
     ]
    },
    {
     "name": "stderr",
     "output_type": "stream",
     "text": [
      "[I 2023-11-28 15:20:48,447] Trial 26 finished with value: 0.0 and parameters: {'hidden_size1': 8, 'hidden_size2': 21, 'hidden_size3': 23}. Best is trial 0 with value: 0.0.\n"
     ]
    },
    {
     "name": "stdout",
     "output_type": "stream",
     "text": [
      "Early stopping at Epoch 6690 due to small gradients.\n"
     ]
    },
    {
     "name": "stderr",
     "output_type": "stream",
     "text": [
      "[I 2023-11-28 15:20:52,054] Trial 27 finished with value: 0.0 and parameters: {'hidden_size1': 19, 'hidden_size2': 32, 'hidden_size3': 32}. Best is trial 0 with value: 0.0.\n"
     ]
    },
    {
     "name": "stdout",
     "output_type": "stream",
     "text": [
      "Early stopping at Epoch 6307 due to small gradients.\n"
     ]
    },
    {
     "name": "stderr",
     "output_type": "stream",
     "text": [
      "[I 2023-11-28 15:20:56,422] Trial 28 finished with value: 0.0 and parameters: {'hidden_size1': 11, 'hidden_size2': 2, 'hidden_size3': 19}. Best is trial 0 with value: 0.0.\n"
     ]
    },
    {
     "name": "stdout",
     "output_type": "stream",
     "text": [
      "Early stopping at Epoch 7834 due to small gradients.\n"
     ]
    },
    {
     "name": "stderr",
     "output_type": "stream",
     "text": [
      "[I 2023-11-28 15:21:01,366] Trial 29 finished with value: 0.0 and parameters: {'hidden_size1': 11, 'hidden_size2': 19, 'hidden_size3': 15}. Best is trial 0 with value: 0.0.\n"
     ]
    },
    {
     "name": "stdout",
     "output_type": "stream",
     "text": [
      "Early stopping at Epoch 8489 due to small gradients.\n"
     ]
    },
    {
     "name": "stderr",
     "output_type": "stream",
     "text": [
      "[I 2023-11-28 15:21:05,195] Trial 30 finished with value: 0.0 and parameters: {'hidden_size1': 4, 'hidden_size2': 15, 'hidden_size3': 29}. Best is trial 0 with value: 0.0.\n"
     ]
    },
    {
     "name": "stdout",
     "output_type": "stream",
     "text": [
      "Early stopping at Epoch 6675 due to small gradients.\n"
     ]
    },
    {
     "name": "stderr",
     "output_type": "stream",
     "text": [
      "[I 2023-11-28 15:21:10,257] Trial 31 finished with value: 0.0 and parameters: {'hidden_size1': 16, 'hidden_size2': 5, 'hidden_size3': 11}. Best is trial 0 with value: 0.0.\n"
     ]
    },
    {
     "name": "stdout",
     "output_type": "stream",
     "text": [
      "Early stopping at Epoch 9046 due to small gradients.\n"
     ]
    },
    {
     "name": "stderr",
     "output_type": "stream",
     "text": [
      "[I 2023-11-28 15:21:17,539] Trial 32 finished with value: 0.0 and parameters: {'hidden_size1': 17, 'hidden_size2': 11, 'hidden_size3': 5}. Best is trial 0 with value: 0.0.\n"
     ]
    },
    {
     "name": "stdout",
     "output_type": "stream",
     "text": [
      "Early stopping at Epoch 12813 due to small gradients.\n"
     ]
    },
    {
     "name": "stderr",
     "output_type": "stream",
     "text": [
      "[I 2023-11-28 15:21:23,926] Trial 33 finished with value: 0.0 and parameters: {'hidden_size1': 19, 'hidden_size2': 11, 'hidden_size3': 8}. Best is trial 0 with value: 0.0.\n"
     ]
    },
    {
     "name": "stdout",
     "output_type": "stream",
     "text": [
      "Early stopping at Epoch 11204 due to small gradients.\n"
     ]
    },
    {
     "name": "stderr",
     "output_type": "stream",
     "text": [
      "[I 2023-11-28 15:21:30,156] Trial 34 finished with value: 0.0 and parameters: {'hidden_size1': 13, 'hidden_size2': 8, 'hidden_size3': 7}. Best is trial 0 with value: 0.0.\n"
     ]
    },
    {
     "name": "stdout",
     "output_type": "stream",
     "text": [
      "Early stopping at Epoch 11161 due to small gradients.\n"
     ]
    },
    {
     "name": "stderr",
     "output_type": "stream",
     "text": [
      "[I 2023-11-28 15:21:35,522] Trial 35 finished with value: 0.0 and parameters: {'hidden_size1': 10, 'hidden_size2': 2, 'hidden_size3': 11}. Best is trial 0 with value: 0.0.\n"
     ]
    },
    {
     "name": "stdout",
     "output_type": "stream",
     "text": [
      "Early stopping at Epoch 9843 due to small gradients.\n"
     ]
    },
    {
     "name": "stderr",
     "output_type": "stream",
     "text": [
      "[I 2023-11-28 15:21:40,494] Trial 36 finished with value: 0.0 and parameters: {'hidden_size1': 7, 'hidden_size2': 18, 'hidden_size3': 13}. Best is trial 0 with value: 0.0.\n"
     ]
    },
    {
     "name": "stdout",
     "output_type": "stream",
     "text": [
      "Early stopping at Epoch 8652 due to small gradients.\n"
     ]
    },
    {
     "name": "stderr",
     "output_type": "stream",
     "text": [
      "[I 2023-11-28 15:21:45,169] Trial 37 finished with value: 0.0 and parameters: {'hidden_size1': 18, 'hidden_size2': 23, 'hidden_size3': 22}. Best is trial 0 with value: 0.0.\n"
     ]
    },
    {
     "name": "stdout",
     "output_type": "stream",
     "text": [
      "Early stopping at Epoch 8074 due to small gradients.\n"
     ]
    },
    {
     "name": "stderr",
     "output_type": "stream",
     "text": [
      "[I 2023-11-28 15:21:48,677] Trial 38 finished with value: 0.0 and parameters: {'hidden_size1': 16, 'hidden_size2': 26, 'hidden_size3': 30}. Best is trial 0 with value: 0.0.\n"
     ]
    },
    {
     "name": "stdout",
     "output_type": "stream",
     "text": [
      "Early stopping at Epoch 6034 due to small gradients.\n"
     ]
    },
    {
     "name": "stderr",
     "output_type": "stream",
     "text": [
      "[I 2023-11-28 15:21:53,510] Trial 39 finished with value: 0.0 and parameters: {'hidden_size1': 6, 'hidden_size2': 13, 'hidden_size3': 15}. Best is trial 0 with value: 0.0.\n"
     ]
    },
    {
     "name": "stdout",
     "output_type": "stream",
     "text": [
      "Early stopping at Epoch 8583 due to small gradients.\n"
     ]
    },
    {
     "name": "stderr",
     "output_type": "stream",
     "text": [
      "[I 2023-11-28 15:21:57,489] Trial 40 finished with value: 0.0 and parameters: {'hidden_size1': 25, 'hidden_size2': 4, 'hidden_size3': 26}. Best is trial 0 with value: 0.0.\n"
     ]
    },
    {
     "name": "stdout",
     "output_type": "stream",
     "text": [
      "Early stopping at Epoch 7043 due to small gradients.\n"
     ]
    },
    {
     "name": "stderr",
     "output_type": "stream",
     "text": [
      "[I 2023-11-28 15:22:03,135] Trial 41 finished with value: 0.0 and parameters: {'hidden_size1': 21, 'hidden_size2': 4, 'hidden_size3': 9}. Best is trial 0 with value: 0.0.\n"
     ]
    },
    {
     "name": "stdout",
     "output_type": "stream",
     "text": [
      "Early stopping at Epoch 10073 due to small gradients.\n"
     ]
    },
    {
     "name": "stderr",
     "output_type": "stream",
     "text": [
      "[I 2023-11-28 15:22:10,103] Trial 42 finished with value: 0.0 and parameters: {'hidden_size1': 32, 'hidden_size2': 7, 'hidden_size3': 5}. Best is trial 0 with value: 0.0.\n"
     ]
    },
    {
     "name": "stdout",
     "output_type": "stream",
     "text": [
      "Early stopping at Epoch 12327 due to small gradients.\n"
     ]
    },
    {
     "name": "stderr",
     "output_type": "stream",
     "text": [
      "[I 2023-11-28 15:22:19,127] Trial 43 finished with value: 0.0 and parameters: {'hidden_size1': 13, 'hidden_size2': 9, 'hidden_size3': 5}. Best is trial 0 with value: 0.0.\n"
     ]
    },
    {
     "name": "stdout",
     "output_type": "stream",
     "text": [
      "Early stopping at Epoch 16487 due to small gradients.\n"
     ]
    },
    {
     "name": "stderr",
     "output_type": "stream",
     "text": [
      "[I 2023-11-28 15:22:24,890] Trial 44 finished with value: 0.0 and parameters: {'hidden_size1': 17, 'hidden_size2': 22, 'hidden_size3': 10}. Best is trial 0 with value: 0.0.\n"
     ]
    },
    {
     "name": "stdout",
     "output_type": "stream",
     "text": [
      "Early stopping at Epoch 9991 due to small gradients.\n"
     ]
    },
    {
     "name": "stderr",
     "output_type": "stream",
     "text": [
      "[I 2023-11-28 15:22:29,912] Trial 45 finished with value: 0.0 and parameters: {'hidden_size1': 15, 'hidden_size2': 3, 'hidden_size3': 13}. Best is trial 0 with value: 0.0.\n"
     ]
    },
    {
     "name": "stdout",
     "output_type": "stream",
     "text": [
      "Early stopping at Epoch 9101 due to small gradients.\n"
     ]
    },
    {
     "name": "stderr",
     "output_type": "stream",
     "text": [
      "[I 2023-11-28 15:22:39,207] Trial 46 finished with value: 0.0 and parameters: {'hidden_size1': 12, 'hidden_size2': 6, 'hidden_size3': 2}. Best is trial 0 with value: 0.0.\n"
     ]
    },
    {
     "name": "stdout",
     "output_type": "stream",
     "text": [
      "Early stopping at Epoch 17020 due to small gradients.\n"
     ]
    },
    {
     "name": "stderr",
     "output_type": "stream",
     "text": [
      "[I 2023-11-28 15:22:42,963] Trial 47 finished with value: 0.0 and parameters: {'hidden_size1': 23, 'hidden_size2': 28, 'hidden_size3': 31}. Best is trial 0 with value: 0.0.\n"
     ]
    },
    {
     "name": "stdout",
     "output_type": "stream",
     "text": [
      "Early stopping at Epoch 6561 due to small gradients.\n"
     ]
    },
    {
     "name": "stderr",
     "output_type": "stream",
     "text": [
      "[I 2023-11-28 15:22:50,334] Trial 48 finished with value: 0.0 and parameters: {'hidden_size1': 14, 'hidden_size2': 19, 'hidden_size3': 7}. Best is trial 0 with value: 0.0.\n"
     ]
    },
    {
     "name": "stdout",
     "output_type": "stream",
     "text": [
      "Early stopping at Epoch 12906 due to small gradients.\n"
     ]
    },
    {
     "name": "stderr",
     "output_type": "stream",
     "text": [
      "[I 2023-11-28 15:22:55,294] Trial 49 finished with value: 0.0 and parameters: {'hidden_size1': 11, 'hidden_size2': 10, 'hidden_size3': 16}. Best is trial 0 with value: 0.0.\n"
     ]
    },
    {
     "name": "stdout",
     "output_type": "stream",
     "text": [
      "Early stopping at Epoch 8860 due to small gradients.\n"
     ]
    },
    {
     "name": "stderr",
     "output_type": "stream",
     "text": [
      "[I 2023-11-28 15:22:59,005] Trial 50 finished with value: 0.0 and parameters: {'hidden_size1': 20, 'hidden_size2': 12, 'hidden_size3': 28}. Best is trial 0 with value: 0.0.\n"
     ]
    },
    {
     "name": "stdout",
     "output_type": "stream",
     "text": [
      "Early stopping at Epoch 6441 due to small gradients.\n"
     ]
    },
    {
     "name": "stderr",
     "output_type": "stream",
     "text": [
      "[I 2023-11-28 15:23:02,877] Trial 51 finished with value: 0.0 and parameters: {'hidden_size1': 18, 'hidden_size2': 24, 'hidden_size3': 24}. Best is trial 0 with value: 0.0.\n"
     ]
    },
    {
     "name": "stdout",
     "output_type": "stream",
     "text": [
      "Early stopping at Epoch 6804 due to small gradients.\n"
     ]
    },
    {
     "name": "stderr",
     "output_type": "stream",
     "text": [
      "[I 2023-11-28 15:23:06,721] Trial 52 finished with value: 0.0 and parameters: {'hidden_size1': 2, 'hidden_size2': 21, 'hidden_size3': 26}. Best is trial 0 with value: 0.0.\n"
     ]
    },
    {
     "name": "stdout",
     "output_type": "stream",
     "text": [
      "Early stopping at Epoch 6795 due to small gradients.\n"
     ]
    },
    {
     "name": "stderr",
     "output_type": "stream",
     "text": [
      "[I 2023-11-28 15:23:10,976] Trial 53 finished with value: 0.0 and parameters: {'hidden_size1': 15, 'hidden_size2': 16, 'hidden_size3': 21}. Best is trial 0 with value: 0.0.\n"
     ]
    },
    {
     "name": "stdout",
     "output_type": "stream",
     "text": [
      "Early stopping at Epoch 7380 due to small gradients.\n"
     ]
    },
    {
     "name": "stderr",
     "output_type": "stream",
     "text": [
      "[I 2023-11-28 15:23:14,654] Trial 54 finished with value: 0.0 and parameters: {'hidden_size1': 22, 'hidden_size2': 18, 'hidden_size3': 31}. Best is trial 0 with value: 0.0.\n"
     ]
    },
    {
     "name": "stdout",
     "output_type": "stream",
     "text": [
      "Early stopping at Epoch 6433 due to small gradients.\n"
     ]
    },
    {
     "name": "stderr",
     "output_type": "stream",
     "text": [
      "[I 2023-11-28 15:23:18,403] Trial 55 finished with value: 0.0 and parameters: {'hidden_size1': 25, 'hidden_size2': 23, 'hidden_size3': 28}. Best is trial 0 with value: 0.0.\n"
     ]
    },
    {
     "name": "stdout",
     "output_type": "stream",
     "text": [
      "Early stopping at Epoch 6570 due to small gradients.\n"
     ]
    },
    {
     "name": "stderr",
     "output_type": "stream",
     "text": [
      "[I 2023-11-28 15:23:22,928] Trial 56 finished with value: 0.0 and parameters: {'hidden_size1': 13, 'hidden_size2': 20, 'hidden_size3': 18}. Best is trial 0 with value: 0.0.\n"
     ]
    },
    {
     "name": "stdout",
     "output_type": "stream",
     "text": [
      "Early stopping at Epoch 7939 due to small gradients.\n"
     ]
    },
    {
     "name": "stderr",
     "output_type": "stream",
     "text": [
      "[I 2023-11-28 15:23:27,119] Trial 57 finished with value: 0.0 and parameters: {'hidden_size1': 28, 'hidden_size2': 30, 'hidden_size3': 30}. Best is trial 0 with value: 0.0.\n"
     ]
    },
    {
     "name": "stdout",
     "output_type": "stream",
     "text": [
      "Early stopping at Epoch 7266 due to small gradients.\n"
     ]
    },
    {
     "name": "stderr",
     "output_type": "stream",
     "text": [
      "[I 2023-11-28 15:23:30,650] Trial 58 finished with value: 0.0 and parameters: {'hidden_size1': 8, 'hidden_size2': 26, 'hidden_size3': 27}. Best is trial 0 with value: 0.0.\n"
     ]
    },
    {
     "name": "stdout",
     "output_type": "stream",
     "text": [
      "Early stopping at Epoch 6199 due to small gradients.\n"
     ]
    },
    {
     "name": "stderr",
     "output_type": "stream",
     "text": [
      "[I 2023-11-28 15:23:34,690] Trial 59 finished with value: 0.0 and parameters: {'hidden_size1': 16, 'hidden_size2': 22, 'hidden_size3': 25}. Best is trial 0 with value: 0.0.\n"
     ]
    },
    {
     "name": "stdout",
     "output_type": "stream",
     "text": [
      "Early stopping at Epoch 7086 due to small gradients.\n"
     ]
    },
    {
     "name": "stderr",
     "output_type": "stream",
     "text": [
      "[I 2023-11-28 15:23:38,612] Trial 60 finished with value: 0.0 and parameters: {'hidden_size1': 10, 'hidden_size2': 16, 'hidden_size3': 23}. Best is trial 0 with value: 0.0.\n"
     ]
    },
    {
     "name": "stdout",
     "output_type": "stream",
     "text": [
      "Early stopping at Epoch 6946 due to small gradients.\n"
     ]
    },
    {
     "name": "stderr",
     "output_type": "stream",
     "text": [
      "[I 2023-11-28 15:23:48,508] Trial 61 finished with value: 0.0 and parameters: {'hidden_size1': 19, 'hidden_size2': 30, 'hidden_size3': 2}. Best is trial 0 with value: 0.0.\n"
     ]
    },
    {
     "name": "stdout",
     "output_type": "stream",
     "text": [
      "Early stopping at Epoch 17437 due to small gradients.\n"
     ]
    },
    {
     "name": "stderr",
     "output_type": "stream",
     "text": [
      "[I 2023-11-28 15:23:56,307] Trial 62 finished with value: 0.0 and parameters: {'hidden_size1': 18, 'hidden_size2': 25, 'hidden_size3': 4}. Best is trial 0 with value: 0.0.\n"
     ]
    },
    {
     "name": "stdout",
     "output_type": "stream",
     "text": [
      "Early stopping at Epoch 13792 due to small gradients.\n"
     ]
    },
    {
     "name": "stderr",
     "output_type": "stream",
     "text": [
      "[I 2023-11-28 15:24:05,462] Trial 63 finished with value: 0.0 and parameters: {'hidden_size1': 20, 'hidden_size2': 28, 'hidden_size3': 3}. Best is trial 0 with value: 0.0.\n"
     ]
    },
    {
     "name": "stdout",
     "output_type": "stream",
     "text": [
      "Early stopping at Epoch 16083 due to small gradients.\n"
     ]
    },
    {
     "name": "stderr",
     "output_type": "stream",
     "text": [
      "[I 2023-11-28 15:24:11,944] Trial 64 finished with value: 0.0 and parameters: {'hidden_size1': 15, 'hidden_size2': 20, 'hidden_size3': 7}. Best is trial 0 with value: 0.0.\n"
     ]
    },
    {
     "name": "stdout",
     "output_type": "stream",
     "text": [
      "Early stopping at Epoch 11233 due to small gradients.\n"
     ]
    },
    {
     "name": "stderr",
     "output_type": "stream",
     "text": [
      "[I 2023-11-28 15:24:15,817] Trial 65 finished with value: 0.0 and parameters: {'hidden_size1': 17, 'hidden_size2': 25, 'hidden_size3': 29}. Best is trial 0 with value: 0.0.\n"
     ]
    },
    {
     "name": "stdout",
     "output_type": "stream",
     "text": [
      "Early stopping at Epoch 6770 due to small gradients.\n"
     ]
    },
    {
     "name": "stderr",
     "output_type": "stream",
     "text": [
      "[I 2023-11-28 15:24:19,067] Trial 66 finished with value: 0.0 and parameters: {'hidden_size1': 12, 'hidden_size2': 32, 'hidden_size3': 32}. Best is trial 0 with value: 0.0.\n"
     ]
    },
    {
     "name": "stdout",
     "output_type": "stream",
     "text": [
      "Early stopping at Epoch 5725 due to small gradients.\n"
     ]
    },
    {
     "name": "stderr",
     "output_type": "stream",
     "text": [
      "[I 2023-11-28 15:24:25,366] Trial 67 finished with value: 0.0 and parameters: {'hidden_size1': 14, 'hidden_size2': 3, 'hidden_size3': 13}. Best is trial 0 with value: 0.0.\n"
     ]
    },
    {
     "name": "stdout",
     "output_type": "stream",
     "text": [
      "Early stopping at Epoch 11469 due to small gradients.\n"
     ]
    },
    {
     "name": "stderr",
     "output_type": "stream",
     "text": [
      "[I 2023-11-28 15:24:29,539] Trial 68 finished with value: 0.0 and parameters: {'hidden_size1': 4, 'hidden_size2': 14, 'hidden_size3': 20}. Best is trial 0 with value: 0.0.\n"
     ]
    },
    {
     "name": "stdout",
     "output_type": "stream",
     "text": [
      "Early stopping at Epoch 7379 due to small gradients.\n"
     ]
    },
    {
     "name": "stderr",
     "output_type": "stream",
     "text": [
      "[I 2023-11-28 15:24:36,102] Trial 69 finished with value: 0.0 and parameters: {'hidden_size1': 16, 'hidden_size2': 18, 'hidden_size3': 6}. Best is trial 0 with value: 0.0.\n"
     ]
    },
    {
     "name": "stdout",
     "output_type": "stream",
     "text": [
      "Early stopping at Epoch 11680 due to small gradients.\n"
     ]
    },
    {
     "name": "stderr",
     "output_type": "stream",
     "text": [
      "[I 2023-11-28 15:24:42,678] Trial 70 finished with value: 0.0 and parameters: {'hidden_size1': 10, 'hidden_size2': 22, 'hidden_size3': 9}. Best is trial 0 with value: 0.0.\n"
     ]
    },
    {
     "name": "stdout",
     "output_type": "stream",
     "text": [
      "Early stopping at Epoch 11571 due to small gradients.\n"
     ]
    },
    {
     "name": "stderr",
     "output_type": "stream",
     "text": [
      "[I 2023-11-28 15:24:47,803] Trial 71 finished with value: 0.0 and parameters: {'hidden_size1': 5, 'hidden_size2': 29, 'hidden_size3': 12}. Best is trial 0 with value: 0.0.\n"
     ]
    },
    {
     "name": "stdout",
     "output_type": "stream",
     "text": [
      "Early stopping at Epoch 9049 due to small gradients.\n"
     ]
    },
    {
     "name": "stderr",
     "output_type": "stream",
     "text": [
      "[I 2023-11-28 15:24:52,655] Trial 72 finished with value: 0.0 and parameters: {'hidden_size1': 6, 'hidden_size2': 31, 'hidden_size3': 14}. Best is trial 0 with value: 0.0.\n"
     ]
    },
    {
     "name": "stdout",
     "output_type": "stream",
     "text": [
      "Early stopping at Epoch 8407 due to small gradients.\n"
     ]
    },
    {
     "name": "stderr",
     "output_type": "stream",
     "text": [
      "[I 2023-11-28 15:24:57,215] Trial 73 finished with value: 0.0 and parameters: {'hidden_size1': 3, 'hidden_size2': 27, 'hidden_size3': 17}. Best is trial 0 with value: 0.0.\n"
     ]
    },
    {
     "name": "stdout",
     "output_type": "stream",
     "text": [
      "Early stopping at Epoch 8023 due to small gradients.\n"
     ]
    },
    {
     "name": "stderr",
     "output_type": "stream",
     "text": [
      "[I 2023-11-28 15:25:01,069] Trial 74 finished with value: 0.0 and parameters: {'hidden_size1': 8, 'hidden_size2': 6, 'hidden_size3': 30}. Best is trial 0 with value: 0.0.\n"
     ]
    },
    {
     "name": "stdout",
     "output_type": "stream",
     "text": [
      "Early stopping at Epoch 6852 due to small gradients.\n"
     ]
    },
    {
     "name": "stderr",
     "output_type": "stream",
     "text": [
      "[I 2023-11-28 15:25:06,765] Trial 75 finished with value: 0.0 and parameters: {'hidden_size1': 3, 'hidden_size2': 27, 'hidden_size3': 11}. Best is trial 0 with value: 0.0.\n"
     ]
    },
    {
     "name": "stdout",
     "output_type": "stream",
     "text": [
      "Early stopping at Epoch 9632 due to small gradients.\n"
     ]
    },
    {
     "name": "stderr",
     "output_type": "stream",
     "text": [
      "[I 2023-11-28 15:25:11,157] Trial 76 finished with value: 0.0 and parameters: {'hidden_size1': 20, 'hidden_size2': 24, 'hidden_size3': 19}. Best is trial 0 with value: 0.0.\n"
     ]
    },
    {
     "name": "stdout",
     "output_type": "stream",
     "text": [
      "Early stopping at Epoch 7570 due to small gradients.\n"
     ]
    },
    {
     "name": "stderr",
     "output_type": "stream",
     "text": [
      "[I 2023-11-28 15:25:15,164] Trial 77 finished with value: 0.0 and parameters: {'hidden_size1': 13, 'hidden_size2': 29, 'hidden_size3': 25}. Best is trial 0 with value: 0.0.\n"
     ]
    },
    {
     "name": "stdout",
     "output_type": "stream",
     "text": [
      "Early stopping at Epoch 6950 due to small gradients.\n"
     ]
    },
    {
     "name": "stderr",
     "output_type": "stream",
     "text": [
      "[I 2023-11-28 15:25:20,818] Trial 78 finished with value: 0.0 and parameters: {'hidden_size1': 6, 'hidden_size2': 8, 'hidden_size3': 8}. Best is trial 0 with value: 0.0.\n"
     ]
    },
    {
     "name": "stdout",
     "output_type": "stream",
     "text": [
      "Early stopping at Epoch 10323 due to small gradients.\n"
     ]
    },
    {
     "name": "stderr",
     "output_type": "stream",
     "text": [
      "[I 2023-11-28 15:25:25,748] Trial 79 finished with value: 0.0 and parameters: {'hidden_size1': 17, 'hidden_size2': 19, 'hidden_size3': 16}. Best is trial 0 with value: 0.0.\n"
     ]
    },
    {
     "name": "stdout",
     "output_type": "stream",
     "text": [
      "Early stopping at Epoch 8577 due to small gradients.\n"
     ]
    },
    {
     "name": "stderr",
     "output_type": "stream",
     "text": [
      "[I 2023-11-28 15:25:29,915] Trial 80 finished with value: 0.0 and parameters: {'hidden_size1': 12, 'hidden_size2': 2, 'hidden_size3': 23}. Best is trial 0 with value: 0.0.\n"
     ]
    },
    {
     "name": "stdout",
     "output_type": "stream",
     "text": [
      "Early stopping at Epoch 7311 due to small gradients.\n"
     ]
    },
    {
     "name": "stderr",
     "output_type": "stream",
     "text": [
      "[I 2023-11-28 15:25:35,031] Trial 81 finished with value: 0.0 and parameters: {'hidden_size1': 7, 'hidden_size2': 32, 'hidden_size3': 14}. Best is trial 0 with value: 0.0.\n"
     ]
    },
    {
     "name": "stdout",
     "output_type": "stream",
     "text": [
      "Early stopping at Epoch 8778 due to small gradients.\n"
     ]
    },
    {
     "name": "stderr",
     "output_type": "stream",
     "text": [
      "[I 2023-11-28 15:25:40,841] Trial 82 finished with value: 0.0 and parameters: {'hidden_size1': 9, 'hidden_size2': 31, 'hidden_size3': 10}. Best is trial 0 with value: 0.0.\n"
     ]
    },
    {
     "name": "stdout",
     "output_type": "stream",
     "text": [
      "Early stopping at Epoch 10120 due to small gradients.\n"
     ]
    },
    {
     "name": "stderr",
     "output_type": "stream",
     "text": [
      "[I 2023-11-28 15:25:46,231] Trial 83 finished with value: 0.0 and parameters: {'hidden_size1': 5, 'hidden_size2': 31, 'hidden_size3': 12}. Best is trial 0 with value: 0.0.\n"
     ]
    },
    {
     "name": "stdout",
     "output_type": "stream",
     "text": [
      "Early stopping at Epoch 9504 due to small gradients.\n"
     ]
    },
    {
     "name": "stderr",
     "output_type": "stream",
     "text": [
      "[I 2023-11-28 15:25:50,777] Trial 84 finished with value: 0.0 and parameters: {'hidden_size1': 14, 'hidden_size2': 28, 'hidden_size3': 16}. Best is trial 0 with value: 0.0.\n"
     ]
    },
    {
     "name": "stdout",
     "output_type": "stream",
     "text": [
      "Early stopping at Epoch 8052 due to small gradients.\n"
     ]
    },
    {
     "name": "stderr",
     "output_type": "stream",
     "text": [
      "[I 2023-11-28 15:25:54,047] Trial 85 finished with value: 0.0 and parameters: {'hidden_size1': 3, 'hidden_size2': 30, 'hidden_size3': 31}. Best is trial 0 with value: 0.0.\n"
     ]
    },
    {
     "name": "stdout",
     "output_type": "stream",
     "text": [
      "Early stopping at Epoch 5689 due to small gradients.\n"
     ]
    },
    {
     "name": "stderr",
     "output_type": "stream",
     "text": [
      "[I 2023-11-28 15:25:59,569] Trial 86 finished with value: 0.0 and parameters: {'hidden_size1': 11, 'hidden_size2': 21, 'hidden_size3': 12}. Best is trial 0 with value: 0.0.\n"
     ]
    },
    {
     "name": "stdout",
     "output_type": "stream",
     "text": [
      "Early stopping at Epoch 9665 due to small gradients.\n"
     ]
    },
    {
     "name": "stderr",
     "output_type": "stream",
     "text": [
      "[I 2023-11-28 15:26:04,866] Trial 87 finished with value: 0.0 and parameters: {'hidden_size1': 7, 'hidden_size2': 17, 'hidden_size3': 15}. Best is trial 0 with value: 0.0.\n"
     ]
    },
    {
     "name": "stdout",
     "output_type": "stream",
     "text": [
      "Early stopping at Epoch 9257 due to small gradients.\n"
     ]
    },
    {
     "name": "stderr",
     "output_type": "stream",
     "text": [
      "[I 2023-11-28 15:26:08,671] Trial 88 finished with value: 0.0 and parameters: {'hidden_size1': 15, 'hidden_size2': 26, 'hidden_size3': 27}. Best is trial 0 with value: 0.0.\n"
     ]
    },
    {
     "name": "stdout",
     "output_type": "stream",
     "text": [
      "Early stopping at Epoch 6556 due to small gradients.\n"
     ]
    },
    {
     "name": "stderr",
     "output_type": "stream",
     "text": [
      "[I 2023-11-28 15:26:12,153] Trial 89 finished with value: 0.0 and parameters: {'hidden_size1': 18, 'hidden_size2': 23, 'hidden_size3': 28}. Best is trial 0 with value: 0.0.\n"
     ]
    },
    {
     "name": "stdout",
     "output_type": "stream",
     "text": [
      "Early stopping at Epoch 6116 due to small gradients.\n"
     ]
    },
    {
     "name": "stderr",
     "output_type": "stream",
     "text": [
      "[I 2023-11-28 15:26:16,802] Trial 90 finished with value: 0.0 and parameters: {'hidden_size1': 19, 'hidden_size2': 4, 'hidden_size3': 32}. Best is trial 0 with value: 0.0.\n"
     ]
    },
    {
     "name": "stdout",
     "output_type": "stream",
     "text": [
      "Early stopping at Epoch 8337 due to small gradients.\n"
     ]
    },
    {
     "name": "stderr",
     "output_type": "stream",
     "text": [
      "[I 2023-11-28 15:26:25,981] Trial 91 finished with value: 0.0 and parameters: {'hidden_size1': 2, 'hidden_size2': 11, 'hidden_size3': 3}. Best is trial 0 with value: 0.0.\n"
     ]
    },
    {
     "name": "stdout",
     "output_type": "stream",
     "text": [
      "Early stopping at Epoch 16856 due to small gradients.\n"
     ]
    },
    {
     "name": "stderr",
     "output_type": "stream",
     "text": [
      "[I 2023-11-28 15:26:32,998] Trial 92 finished with value: 0.0 and parameters: {'hidden_size1': 4, 'hidden_size2': 9, 'hidden_size3': 4}. Best is trial 0 with value: 0.0.\n"
     ]
    },
    {
     "name": "stdout",
     "output_type": "stream",
     "text": [
      "Early stopping at Epoch 12959 due to small gradients.\n"
     ]
    },
    {
     "name": "stderr",
     "output_type": "stream",
     "text": [
      "[I 2023-11-28 15:26:42,254] Trial 93 finished with value: 0.0 and parameters: {'hidden_size1': 2, 'hidden_size2': 13, 'hidden_size3': 2}. Best is trial 0 with value: 0.0.\n"
     ]
    },
    {
     "name": "stdout",
     "output_type": "stream",
     "text": [
      "Early stopping at Epoch 16936 due to small gradients.\n"
     ]
    },
    {
     "name": "stderr",
     "output_type": "stream",
     "text": [
      "[I 2023-11-28 15:26:47,622] Trial 94 finished with value: 0.0 and parameters: {'hidden_size1': 5, 'hidden_size2': 6, 'hidden_size3': 10}. Best is trial 0 with value: 0.0.\n"
     ]
    },
    {
     "name": "stdout",
     "output_type": "stream",
     "text": [
      "Early stopping at Epoch 9858 due to small gradients.\n"
     ]
    },
    {
     "name": "stderr",
     "output_type": "stream",
     "text": [
      "[I 2023-11-28 15:26:57,037] Trial 95 finished with value: 0.0 and parameters: {'hidden_size1': 3, 'hidden_size2': 20, 'hidden_size3': 3}. Best is trial 0 with value: 0.0.\n"
     ]
    },
    {
     "name": "stdout",
     "output_type": "stream",
     "text": [
      "Early stopping at Epoch 16637 due to small gradients.\n"
     ]
    },
    {
     "name": "stderr",
     "output_type": "stream",
     "text": [
      "[I 2023-11-28 15:27:03,252] Trial 96 finished with value: 0.0 and parameters: {'hidden_size1': 8, 'hidden_size2': 7, 'hidden_size3': 6}. Best is trial 0 with value: 0.0.\n"
     ]
    },
    {
     "name": "stdout",
     "output_type": "stream",
     "text": [
      "Early stopping at Epoch 11299 due to small gradients.\n"
     ]
    },
    {
     "name": "stderr",
     "output_type": "stream",
     "text": [
      "[I 2023-11-28 15:27:07,587] Trial 97 finished with value: 0.0 and parameters: {'hidden_size1': 13, 'hidden_size2': 10, 'hidden_size3': 22}. Best is trial 0 with value: 0.0.\n"
     ]
    },
    {
     "name": "stdout",
     "output_type": "stream",
     "text": [
      "Early stopping at Epoch 7561 due to small gradients.\n"
     ]
    },
    {
     "name": "stderr",
     "output_type": "stream",
     "text": [
      "[I 2023-11-28 15:27:12,848] Trial 98 finished with value: 0.0 and parameters: {'hidden_size1': 16, 'hidden_size2': 8, 'hidden_size3': 14}. Best is trial 0 with value: 0.0.\n"
     ]
    },
    {
     "name": "stdout",
     "output_type": "stream",
     "text": [
      "Early stopping at Epoch 9269 due to small gradients.\n"
     ]
    },
    {
     "name": "stderr",
     "output_type": "stream",
     "text": [
      "[I 2023-11-28 15:27:16,751] Trial 99 finished with value: 0.0 and parameters: {'hidden_size1': 21, 'hidden_size2': 5, 'hidden_size3': 26}. Best is trial 0 with value: 0.0.\n"
     ]
    },
    {
     "name": "stdout",
     "output_type": "stream",
     "text": [
      "Early stopping at Epoch 6898 due to small gradients.\n",
      "Best hyperparameters: {'hidden_size1': 12, 'hidden_size2': 21, 'hidden_size3': 30}\n",
      "Best metric value: 0.0\n"
     ]
    }
   ],
   "source": [
    "def objective(trial):\n",
    "    # Define the search space\n",
    "    hidden_size1 = trial.suggest_int('hidden_size1', 2, 32)\n",
    "    hidden_size2 = trial.suggest_int('hidden_size2', 2, 32)\n",
    "    hidden_size3 = trial.suggest_int('hidden_size3', 2, 32)\n",
    "\n",
    "    model_base_c = GeneralLogisticNN(\n",
    "        input_size=input,\n",
    "        hidden_size1=hidden_size1,\n",
    "        hidden_size2=hidden_size2,\n",
    "        hidden_size3=hidden_size3,\n",
    "        output_size=output\n",
    "    )\n",
    "\n",
    "    tr = TrainNN(model=model_base_c, x=X, y=y, gradient_threshold=0.0001, learning_rate=0.001)\n",
    "    loss_func = LossFunction(bce=True)\n",
    "    model_final, epoch_loss = tr.nn_training(loss_func=loss_func)\n",
    "    y_pred = model_final.predict(X)\n",
    "    y_pred = np.where(y_pred>=0.5, 1, 0)\n",
    "    loss = zero_one_loss(y,y_pred)\n",
    "\n",
    "    return loss\n",
    "\n",
    "# Create an Optuna study\n",
    "study = optuna.create_study(direction='minimize')\n",
    "\n",
    "# Start the optimization process\n",
    "study.optimize(objective, n_trials=100)\n",
    "\n",
    "# Print the best hyperparameters and metric\n",
    "print('Best hyperparameters:', study.best_params)\n",
    "print('Best metric value:', study.best_value)"
   ]
  },
  {
   "cell_type": "code",
   "execution_count": 17,
   "metadata": {},
   "outputs": [
    {
     "name": "stderr",
     "output_type": "stream",
     "text": [
      "[I 2023-11-28 15:36:25,633] A new study created in memory with name: no-name-a3dab5be-84c1-4c01-93e6-0a73d7edd30c\n",
      "[I 2023-11-28 15:36:29,608] Trial 0 finished with value: 0.0 and parameters: {'hidden_size1': 29, 'hidden_size2': 5, 'hidden_size3': 29}. Best is trial 0 with value: 0.0.\n"
     ]
    },
    {
     "name": "stdout",
     "output_type": "stream",
     "text": [
      "Early stopping at Epoch 6994 due to small gradients.\n"
     ]
    },
    {
     "name": "stderr",
     "output_type": "stream",
     "text": [
      "[I 2023-11-28 15:36:34,707] Trial 1 finished with value: 0.0 and parameters: {'hidden_size1': 18, 'hidden_size2': 11, 'hidden_size3': 12}. Best is trial 0 with value: 0.0.\n"
     ]
    },
    {
     "name": "stdout",
     "output_type": "stream",
     "text": [
      "Early stopping at Epoch 8944 due to small gradients.\n"
     ]
    },
    {
     "name": "stderr",
     "output_type": "stream",
     "text": [
      "[I 2023-11-28 15:36:39,119] Trial 2 finished with value: 0.0 and parameters: {'hidden_size1': 30, 'hidden_size2': 31, 'hidden_size3': 20}. Best is trial 0 with value: 0.0.\n"
     ]
    },
    {
     "name": "stdout",
     "output_type": "stream",
     "text": [
      "Early stopping at Epoch 7661 due to small gradients.\n"
     ]
    },
    {
     "name": "stderr",
     "output_type": "stream",
     "text": [
      "[I 2023-11-28 15:36:42,804] Trial 3 finished with value: 0.0 and parameters: {'hidden_size1': 16, 'hidden_size2': 20, 'hidden_size3': 31}. Best is trial 0 with value: 0.0.\n"
     ]
    },
    {
     "name": "stdout",
     "output_type": "stream",
     "text": [
      "Early stopping at Epoch 6426 due to small gradients.\n"
     ]
    },
    {
     "name": "stderr",
     "output_type": "stream",
     "text": [
      "[I 2023-11-28 15:36:46,875] Trial 4 finished with value: 0.0 and parameters: {'hidden_size1': 22, 'hidden_size2': 18, 'hidden_size3': 26}. Best is trial 0 with value: 0.0.\n"
     ]
    },
    {
     "name": "stdout",
     "output_type": "stream",
     "text": [
      "Early stopping at Epoch 7160 due to small gradients.\n"
     ]
    },
    {
     "name": "stderr",
     "output_type": "stream",
     "text": [
      "[I 2023-11-28 15:36:56,223] Trial 5 finished with value: 0.0 and parameters: {'hidden_size1': 11, 'hidden_size2': 11, 'hidden_size3': 4}. Best is trial 0 with value: 0.0.\n"
     ]
    },
    {
     "name": "stdout",
     "output_type": "stream",
     "text": [
      "Early stopping at Epoch 16728 due to small gradients.\n"
     ]
    },
    {
     "name": "stderr",
     "output_type": "stream",
     "text": [
      "[I 2023-11-28 15:37:03,290] Trial 6 finished with value: 0.0 and parameters: {'hidden_size1': 25, 'hidden_size2': 15, 'hidden_size3': 6}. Best is trial 0 with value: 0.0.\n"
     ]
    },
    {
     "name": "stdout",
     "output_type": "stream",
     "text": [
      "Early stopping at Epoch 12489 due to small gradients.\n"
     ]
    },
    {
     "name": "stderr",
     "output_type": "stream",
     "text": [
      "[I 2023-11-28 15:37:09,971] Trial 7 finished with value: 0.0 and parameters: {'hidden_size1': 15, 'hidden_size2': 3, 'hidden_size3': 11}. Best is trial 0 with value: 0.0.\n"
     ]
    },
    {
     "name": "stdout",
     "output_type": "stream",
     "text": [
      "Early stopping at Epoch 12045 due to small gradients.\n"
     ]
    },
    {
     "name": "stderr",
     "output_type": "stream",
     "text": [
      "[I 2023-11-28 15:37:17,149] Trial 8 finished with value: 0.5 and parameters: {'hidden_size1': 20, 'hidden_size2': 21, 'hidden_size3': 2}. Best is trial 0 with value: 0.0.\n"
     ]
    },
    {
     "name": "stdout",
     "output_type": "stream",
     "text": [
      "Early stopping at Epoch 12585 due to small gradients.\n"
     ]
    },
    {
     "name": "stderr",
     "output_type": "stream",
     "text": [
      "[I 2023-11-28 15:37:20,784] Trial 9 finished with value: 0.0 and parameters: {'hidden_size1': 26, 'hidden_size2': 21, 'hidden_size3': 30}. Best is trial 0 with value: 0.0.\n"
     ]
    },
    {
     "name": "stdout",
     "output_type": "stream",
     "text": [
      "Early stopping at Epoch 6321 due to small gradients.\n"
     ]
    },
    {
     "name": "stderr",
     "output_type": "stream",
     "text": [
      "[I 2023-11-28 15:37:24,924] Trial 10 finished with value: 0.0 and parameters: {'hidden_size1': 2, 'hidden_size2': 3, 'hidden_size3': 22}. Best is trial 0 with value: 0.0.\n"
     ]
    },
    {
     "name": "stdout",
     "output_type": "stream",
     "text": [
      "Early stopping at Epoch 7238 due to small gradients.\n"
     ]
    },
    {
     "name": "stderr",
     "output_type": "stream",
     "text": [
      "[I 2023-11-28 15:37:29,922] Trial 11 finished with value: 0.0 and parameters: {'hidden_size1': 32, 'hidden_size2': 9, 'hidden_size3': 14}. Best is trial 0 with value: 0.0.\n"
     ]
    },
    {
     "name": "stdout",
     "output_type": "stream",
     "text": [
      "Early stopping at Epoch 8667 due to small gradients.\n"
     ]
    },
    {
     "name": "stderr",
     "output_type": "stream",
     "text": [
      "[I 2023-11-28 15:37:35,023] Trial 12 finished with value: 0.0 and parameters: {'hidden_size1': 8, 'hidden_size2': 8, 'hidden_size3': 11}. Best is trial 0 with value: 0.0.\n"
     ]
    },
    {
     "name": "stdout",
     "output_type": "stream",
     "text": [
      "Early stopping at Epoch 9123 due to small gradients.\n"
     ]
    },
    {
     "name": "stderr",
     "output_type": "stream",
     "text": [
      "[I 2023-11-28 15:37:39,533] Trial 13 finished with value: 0.0 and parameters: {'hidden_size1': 28, 'hidden_size2': 14, 'hidden_size3': 18}. Best is trial 0 with value: 0.0.\n"
     ]
    },
    {
     "name": "stdout",
     "output_type": "stream",
     "text": [
      "Early stopping at Epoch 7972 due to small gradients.\n"
     ]
    },
    {
     "name": "stderr",
     "output_type": "stream",
     "text": [
      "[I 2023-11-28 15:37:43,405] Trial 14 finished with value: 0.0 and parameters: {'hidden_size1': 20, 'hidden_size2': 6, 'hidden_size3': 25}. Best is trial 0 with value: 0.0.\n"
     ]
    },
    {
     "name": "stdout",
     "output_type": "stream",
     "text": [
      "Early stopping at Epoch 6806 due to small gradients.\n"
     ]
    },
    {
     "name": "stderr",
     "output_type": "stream",
     "text": [
      "[I 2023-11-28 15:37:48,780] Trial 15 finished with value: 0.0 and parameters: {'hidden_size1': 10, 'hidden_size2': 12, 'hidden_size3': 15}. Best is trial 0 with value: 0.0.\n"
     ]
    },
    {
     "name": "stdout",
     "output_type": "stream",
     "text": [
      "Early stopping at Epoch 9252 due to small gradients.\n"
     ]
    },
    {
     "name": "stderr",
     "output_type": "stream",
     "text": [
      "[I 2023-11-28 15:37:54,862] Trial 16 finished with value: 0.0 and parameters: {'hidden_size1': 23, 'hidden_size2': 27, 'hidden_size3': 9}. Best is trial 0 with value: 0.0.\n"
     ]
    },
    {
     "name": "stdout",
     "output_type": "stream",
     "text": [
      "Early stopping at Epoch 10435 due to small gradients.\n"
     ]
    },
    {
     "name": "stderr",
     "output_type": "stream",
     "text": [
      "[I 2023-11-28 15:37:58,556] Trial 17 finished with value: 0.0 and parameters: {'hidden_size1': 3, 'hidden_size2': 7, 'hidden_size3': 26}. Best is trial 0 with value: 0.0.\n"
     ]
    },
    {
     "name": "stdout",
     "output_type": "stream",
     "text": [
      "Early stopping at Epoch 6268 due to small gradients.\n"
     ]
    },
    {
     "name": "stderr",
     "output_type": "stream",
     "text": [
      "[I 2023-11-28 15:38:03,591] Trial 18 finished with value: 0.0 and parameters: {'hidden_size1': 14, 'hidden_size2': 3, 'hidden_size3': 16}. Best is trial 0 with value: 0.0.\n"
     ]
    },
    {
     "name": "stdout",
     "output_type": "stream",
     "text": [
      "Early stopping at Epoch 8756 due to small gradients.\n"
     ]
    },
    {
     "name": "stderr",
     "output_type": "stream",
     "text": [
      "[I 2023-11-28 15:38:08,101] Trial 19 finished with value: 0.0 and parameters: {'hidden_size1': 18, 'hidden_size2': 11, 'hidden_size3': 22}. Best is trial 0 with value: 0.0.\n"
     ]
    },
    {
     "name": "stdout",
     "output_type": "stream",
     "text": [
      "Early stopping at Epoch 7639 due to small gradients.\n"
     ]
    },
    {
     "name": "stderr",
     "output_type": "stream",
     "text": [
      "[I 2023-11-28 15:38:14,276] Trial 20 finished with value: 0.0 and parameters: {'hidden_size1': 6, 'hidden_size2': 6, 'hidden_size3': 7}. Best is trial 0 with value: 0.0.\n"
     ]
    },
    {
     "name": "stdout",
     "output_type": "stream",
     "text": [
      "Early stopping at Epoch 10912 due to small gradients.\n"
     ]
    },
    {
     "name": "stderr",
     "output_type": "stream",
     "text": [
      "[I 2023-11-28 15:38:19,387] Trial 21 finished with value: 0.0 and parameters: {'hidden_size1': 32, 'hidden_size2': 31, 'hidden_size3': 19}. Best is trial 0 with value: 0.0.\n"
     ]
    },
    {
     "name": "stdout",
     "output_type": "stream",
     "text": [
      "Early stopping at Epoch 8576 due to small gradients.\n"
     ]
    },
    {
     "name": "stderr",
     "output_type": "stream",
     "text": [
      "[I 2023-11-28 15:38:23,861] Trial 22 finished with value: 0.0 and parameters: {'hidden_size1': 29, 'hidden_size2': 26, 'hidden_size3': 21}. Best is trial 0 with value: 0.0.\n"
     ]
    },
    {
     "name": "stdout",
     "output_type": "stream",
     "text": [
      "Early stopping at Epoch 7564 due to small gradients.\n"
     ]
    },
    {
     "name": "stderr",
     "output_type": "stream",
     "text": [
      "[I 2023-11-28 15:38:27,839] Trial 23 finished with value: 0.0 and parameters: {'hidden_size1': 29, 'hidden_size2': 25, 'hidden_size3': 29}. Best is trial 0 with value: 0.0.\n"
     ]
    },
    {
     "name": "stdout",
     "output_type": "stream",
     "text": [
      "Early stopping at Epoch 6739 due to small gradients.\n"
     ]
    },
    {
     "name": "stderr",
     "output_type": "stream",
     "text": [
      "[I 2023-11-28 15:38:33,459] Trial 24 finished with value: 0.0 and parameters: {'hidden_size1': 26, 'hidden_size2': 32, 'hidden_size3': 13}. Best is trial 0 with value: 0.0.\n"
     ]
    },
    {
     "name": "stdout",
     "output_type": "stream",
     "text": [
      "Early stopping at Epoch 9843 due to small gradients.\n"
     ]
    },
    {
     "name": "stderr",
     "output_type": "stream",
     "text": [
      "[I 2023-11-28 15:38:36,983] Trial 25 finished with value: 0.0 and parameters: {'hidden_size1': 30, 'hidden_size2': 16, 'hidden_size3': 32}. Best is trial 0 with value: 0.0.\n"
     ]
    },
    {
     "name": "stdout",
     "output_type": "stream",
     "text": [
      "Early stopping at Epoch 6218 due to small gradients.\n"
     ]
    },
    {
     "name": "stderr",
     "output_type": "stream",
     "text": [
      "[I 2023-11-28 15:38:40,708] Trial 26 finished with value: 0.0 and parameters: {'hidden_size1': 24, 'hidden_size2': 13, 'hidden_size3': 28}. Best is trial 0 with value: 0.0.\n"
     ]
    },
    {
     "name": "stdout",
     "output_type": "stream",
     "text": [
      "Early stopping at Epoch 6536 due to small gradients.\n"
     ]
    },
    {
     "name": "stderr",
     "output_type": "stream",
     "text": [
      "[I 2023-11-28 15:38:45,160] Trial 27 finished with value: 0.0 and parameters: {'hidden_size1': 27, 'hidden_size2': 29, 'hidden_size3': 20}. Best is trial 0 with value: 0.0.\n"
     ]
    },
    {
     "name": "stdout",
     "output_type": "stream",
     "text": [
      "Early stopping at Epoch 7794 due to small gradients.\n"
     ]
    },
    {
     "name": "stderr",
     "output_type": "stream",
     "text": [
      "[I 2023-11-28 15:38:49,387] Trial 28 finished with value: 0.0 and parameters: {'hidden_size1': 19, 'hidden_size2': 23, 'hidden_size3': 24}. Best is trial 0 with value: 0.0.\n"
     ]
    },
    {
     "name": "stdout",
     "output_type": "stream",
     "text": [
      "Early stopping at Epoch 7386 due to small gradients.\n"
     ]
    },
    {
     "name": "stderr",
     "output_type": "stream",
     "text": [
      "[I 2023-11-28 15:38:54,616] Trial 29 finished with value: 0.0 and parameters: {'hidden_size1': 13, 'hidden_size2': 18, 'hidden_size3': 13}. Best is trial 0 with value: 0.0.\n"
     ]
    },
    {
     "name": "stdout",
     "output_type": "stream",
     "text": [
      "Early stopping at Epoch 8971 due to small gradients.\n"
     ]
    },
    {
     "name": "stderr",
     "output_type": "stream",
     "text": [
      "[I 2023-11-28 15:38:59,310] Trial 30 finished with value: 0.0 and parameters: {'hidden_size1': 17, 'hidden_size2': 9, 'hidden_size3': 18}. Best is trial 0 with value: 0.0.\n"
     ]
    },
    {
     "name": "stdout",
     "output_type": "stream",
     "text": [
      "Early stopping at Epoch 8145 due to small gradients.\n"
     ]
    },
    {
     "name": "stderr",
     "output_type": "stream",
     "text": [
      "[I 2023-11-28 15:39:03,185] Trial 31 finished with value: 0.0 and parameters: {'hidden_size1': 22, 'hidden_size2': 19, 'hidden_size3': 31}. Best is trial 0 with value: 0.0.\n"
     ]
    },
    {
     "name": "stdout",
     "output_type": "stream",
     "text": [
      "Early stopping at Epoch 6691 due to small gradients.\n"
     ]
    },
    {
     "name": "stderr",
     "output_type": "stream",
     "text": [
      "[I 2023-11-28 15:39:06,946] Trial 32 finished with value: 0.0 and parameters: {'hidden_size1': 16, 'hidden_size2': 5, 'hidden_size3': 28}. Best is trial 0 with value: 0.0.\n"
     ]
    },
    {
     "name": "stdout",
     "output_type": "stream",
     "text": [
      "Early stopping at Epoch 6688 due to small gradients.\n"
     ]
    },
    {
     "name": "stderr",
     "output_type": "stream",
     "text": [
      "[I 2023-11-28 15:39:10,667] Trial 33 finished with value: 0.0 and parameters: {'hidden_size1': 12, 'hidden_size2': 11, 'hidden_size3': 27}. Best is trial 0 with value: 0.0.\n"
     ]
    },
    {
     "name": "stdout",
     "output_type": "stream",
     "text": [
      "Early stopping at Epoch 6536 due to small gradients.\n"
     ]
    },
    {
     "name": "stderr",
     "output_type": "stream",
     "text": [
      "[I 2023-11-28 15:39:14,585] Trial 34 finished with value: 0.0 and parameters: {'hidden_size1': 21, 'hidden_size2': 16, 'hidden_size3': 24}. Best is trial 0 with value: 0.0.\n"
     ]
    },
    {
     "name": "stdout",
     "output_type": "stream",
     "text": [
      "Early stopping at Epoch 6875 due to small gradients.\n"
     ]
    },
    {
     "name": "stderr",
     "output_type": "stream",
     "text": [
      "[I 2023-11-28 15:39:18,135] Trial 35 finished with value: 0.0 and parameters: {'hidden_size1': 31, 'hidden_size2': 30, 'hidden_size3': 32}. Best is trial 0 with value: 0.0.\n"
     ]
    },
    {
     "name": "stdout",
     "output_type": "stream",
     "text": [
      "Early stopping at Epoch 6130 due to small gradients.\n"
     ]
    },
    {
     "name": "stderr",
     "output_type": "stream",
     "text": [
      "[I 2023-11-28 15:39:23,772] Trial 36 finished with value: 0.0 and parameters: {'hidden_size1': 25, 'hidden_size2': 21, 'hidden_size3': 11}. Best is trial 0 with value: 0.0.\n"
     ]
    },
    {
     "name": "stdout",
     "output_type": "stream",
     "text": [
      "Early stopping at Epoch 9787 due to small gradients.\n"
     ]
    },
    {
     "name": "stderr",
     "output_type": "stream",
     "text": [
      "[I 2023-11-28 15:39:31,240] Trial 37 finished with value: 0.0 and parameters: {'hidden_size1': 15, 'hidden_size2': 28, 'hidden_size3': 5}. Best is trial 0 with value: 0.0.\n"
     ]
    },
    {
     "name": "stdout",
     "output_type": "stream",
     "text": [
      "Early stopping at Epoch 13109 due to small gradients.\n"
     ]
    },
    {
     "name": "stderr",
     "output_type": "stream",
     "text": [
      "[I 2023-11-28 15:39:34,859] Trial 38 finished with value: 0.0 and parameters: {'hidden_size1': 23, 'hidden_size2': 23, 'hidden_size3': 30}. Best is trial 0 with value: 0.0.\n"
     ]
    },
    {
     "name": "stdout",
     "output_type": "stream",
     "text": [
      "Early stopping at Epoch 6372 due to small gradients.\n"
     ]
    },
    {
     "name": "stderr",
     "output_type": "stream",
     "text": [
      "[I 2023-11-28 15:39:43,572] Trial 39 finished with value: 0.5 and parameters: {'hidden_size1': 9, 'hidden_size2': 2, 'hidden_size3': 2}. Best is trial 0 with value: 0.0.\n"
     ]
    },
    {
     "name": "stdout",
     "output_type": "stream",
     "text": [
      "Early stopping at Epoch 16116 due to small gradients.\n"
     ]
    },
    {
     "name": "stderr",
     "output_type": "stream",
     "text": [
      "[I 2023-11-28 15:39:49,378] Trial 40 finished with value: 0.0 and parameters: {'hidden_size1': 17, 'hidden_size2': 10, 'hidden_size3': 8}. Best is trial 0 with value: 0.0.\n"
     ]
    },
    {
     "name": "stdout",
     "output_type": "stream",
     "text": [
      "Early stopping at Epoch 10309 due to small gradients.\n"
     ]
    },
    {
     "name": "stderr",
     "output_type": "stream",
     "text": [
      "[I 2023-11-28 15:39:53,456] Trial 41 finished with value: 0.0 and parameters: {'hidden_size1': 20, 'hidden_size2': 19, 'hidden_size3': 26}. Best is trial 0 with value: 0.0.\n"
     ]
    },
    {
     "name": "stdout",
     "output_type": "stream",
     "text": [
      "Early stopping at Epoch 7040 due to small gradients.\n"
     ]
    },
    {
     "name": "stderr",
     "output_type": "stream",
     "text": [
      "[I 2023-11-28 15:39:57,414] Trial 42 finished with value: 0.0 and parameters: {'hidden_size1': 27, 'hidden_size2': 14, 'hidden_size3': 23}. Best is trial 0 with value: 0.0.\n"
     ]
    },
    {
     "name": "stdout",
     "output_type": "stream",
     "text": [
      "Early stopping at Epoch 6967 due to small gradients.\n"
     ]
    },
    {
     "name": "stderr",
     "output_type": "stream",
     "text": [
      "[I 2023-11-28 15:40:01,131] Trial 43 finished with value: 0.0 and parameters: {'hidden_size1': 19, 'hidden_size2': 17, 'hidden_size3': 29}. Best is trial 0 with value: 0.0.\n"
     ]
    },
    {
     "name": "stdout",
     "output_type": "stream",
     "text": [
      "Early stopping at Epoch 6446 due to small gradients.\n"
     ]
    },
    {
     "name": "stderr",
     "output_type": "stream",
     "text": [
      "[I 2023-11-28 15:40:04,956] Trial 44 finished with value: 0.0 and parameters: {'hidden_size1': 30, 'hidden_size2': 23, 'hidden_size3': 30}. Best is trial 0 with value: 0.0.\n"
     ]
    },
    {
     "name": "stdout",
     "output_type": "stream",
     "text": [
      "Early stopping at Epoch 6674 due to small gradients.\n"
     ]
    },
    {
     "name": "stderr",
     "output_type": "stream",
     "text": [
      "[I 2023-11-28 15:40:09,247] Trial 45 finished with value: 0.0 and parameters: {'hidden_size1': 25, 'hidden_size2': 20, 'hidden_size3': 26}. Best is trial 0 with value: 0.0.\n"
     ]
    },
    {
     "name": "stdout",
     "output_type": "stream",
     "text": [
      "Early stopping at Epoch 7504 due to small gradients.\n"
     ]
    },
    {
     "name": "stderr",
     "output_type": "stream",
     "text": [
      "[I 2023-11-28 15:40:14,037] Trial 46 finished with value: 0.0 and parameters: {'hidden_size1': 15, 'hidden_size2': 15, 'hidden_size3': 16}. Best is trial 0 with value: 0.0.\n"
     ]
    },
    {
     "name": "stdout",
     "output_type": "stream",
     "text": [
      "Early stopping at Epoch 8052 due to small gradients.\n"
     ]
    },
    {
     "name": "stderr",
     "output_type": "stream",
     "text": [
      "[I 2023-11-28 15:40:20,060] Trial 47 finished with value: 0.0 and parameters: {'hidden_size1': 22, 'hidden_size2': 4, 'hidden_size3': 10}. Best is trial 0 with value: 0.0.\n"
     ]
    },
    {
     "name": "stdout",
     "output_type": "stream",
     "text": [
      "Early stopping at Epoch 9955 due to small gradients.\n"
     ]
    },
    {
     "name": "stderr",
     "output_type": "stream",
     "text": [
      "[I 2023-11-28 15:40:23,710] Trial 48 finished with value: 0.0 and parameters: {'hidden_size1': 11, 'hidden_size2': 8, 'hidden_size3': 28}. Best is trial 0 with value: 0.0.\n"
     ]
    },
    {
     "name": "stdout",
     "output_type": "stream",
     "text": [
      "Early stopping at Epoch 5858 due to small gradients.\n"
     ]
    },
    {
     "name": "stderr",
     "output_type": "stream",
     "text": [
      "[I 2023-11-28 15:40:28,389] Trial 49 finished with value: 0.0 and parameters: {'hidden_size1': 28, 'hidden_size2': 12, 'hidden_size3': 22}. Best is trial 0 with value: 0.0.\n"
     ]
    },
    {
     "name": "stdout",
     "output_type": "stream",
     "text": [
      "Early stopping at Epoch 7435 due to small gradients.\n"
     ]
    },
    {
     "name": "stderr",
     "output_type": "stream",
     "text": [
      "[I 2023-11-28 15:40:32,270] Trial 50 finished with value: 0.0 and parameters: {'hidden_size1': 32, 'hidden_size2': 24, 'hidden_size3': 31}. Best is trial 0 with value: 0.0.\n"
     ]
    },
    {
     "name": "stdout",
     "output_type": "stream",
     "text": [
      "Early stopping at Epoch 6070 due to small gradients.\n"
     ]
    },
    {
     "name": "stderr",
     "output_type": "stream",
     "text": [
      "[I 2023-11-28 15:40:39,326] Trial 51 finished with value: 0.0 and parameters: {'hidden_size1': 7, 'hidden_size2': 7, 'hidden_size3': 5}. Best is trial 0 with value: 0.0.\n"
     ]
    },
    {
     "name": "stdout",
     "output_type": "stream",
     "text": [
      "Early stopping at Epoch 12676 due to small gradients.\n"
     ]
    },
    {
     "name": "stderr",
     "output_type": "stream",
     "text": [
      "[I 2023-11-28 15:40:48,463] Trial 52 finished with value: 0.0 and parameters: {'hidden_size1': 5, 'hidden_size2': 14, 'hidden_size3': 3}. Best is trial 0 with value: 0.0.\n"
     ]
    },
    {
     "name": "stdout",
     "output_type": "stream",
     "text": [
      "Early stopping at Epoch 16347 due to small gradients.\n"
     ]
    },
    {
     "name": "stderr",
     "output_type": "stream",
     "text": [
      "[I 2023-11-28 15:40:52,937] Trial 53 finished with value: 0.0 and parameters: {'hidden_size1': 14, 'hidden_size2': 9, 'hidden_size3': 17}. Best is trial 0 with value: 0.0.\n"
     ]
    },
    {
     "name": "stdout",
     "output_type": "stream",
     "text": [
      "Early stopping at Epoch 7931 due to small gradients.\n"
     ]
    },
    {
     "name": "stderr",
     "output_type": "stream",
     "text": [
      "[I 2023-11-28 15:40:58,204] Trial 54 finished with value: 0.0 and parameters: {'hidden_size1': 18, 'hidden_size2': 17, 'hidden_size3': 13}. Best is trial 0 with value: 0.0.\n"
     ]
    },
    {
     "name": "stdout",
     "output_type": "stream",
     "text": [
      "Early stopping at Epoch 9149 due to small gradients.\n"
     ]
    },
    {
     "name": "stderr",
     "output_type": "stream",
     "text": [
      "[I 2023-11-28 15:41:02,295] Trial 55 finished with value: 0.0 and parameters: {'hidden_size1': 13, 'hidden_size2': 12, 'hidden_size3': 20}. Best is trial 0 with value: 0.0.\n"
     ]
    },
    {
     "name": "stdout",
     "output_type": "stream",
     "text": [
      "Early stopping at Epoch 7245 due to small gradients.\n"
     ]
    },
    {
     "name": "stderr",
     "output_type": "stream",
     "text": [
      "[I 2023-11-28 15:41:07,155] Trial 56 finished with value: 0.0 and parameters: {'hidden_size1': 10, 'hidden_size2': 21, 'hidden_size3': 15}. Best is trial 0 with value: 0.0.\n"
     ]
    },
    {
     "name": "stdout",
     "output_type": "stream",
     "text": [
      "Early stopping at Epoch 8461 due to small gradients.\n"
     ]
    },
    {
     "name": "stderr",
     "output_type": "stream",
     "text": [
      "[I 2023-11-28 15:41:11,281] Trial 57 finished with value: 0.0 and parameters: {'hidden_size1': 16, 'hidden_size2': 5, 'hidden_size3': 25}. Best is trial 0 with value: 0.0.\n"
     ]
    },
    {
     "name": "stdout",
     "output_type": "stream",
     "text": [
      "Early stopping at Epoch 7349 due to small gradients.\n"
     ]
    },
    {
     "name": "stderr",
     "output_type": "stream",
     "text": [
      "[I 2023-11-28 15:41:17,659] Trial 58 finished with value: 0.0 and parameters: {'hidden_size1': 30, 'hidden_size2': 2, 'hidden_size3': 7}. Best is trial 0 with value: 0.0.\n"
     ]
    },
    {
     "name": "stdout",
     "output_type": "stream",
     "text": [
      "Early stopping at Epoch 11439 due to small gradients.\n"
     ]
    },
    {
     "name": "stderr",
     "output_type": "stream",
     "text": [
      "[I 2023-11-28 15:41:21,842] Trial 59 finished with value: 0.0 and parameters: {'hidden_size1': 27, 'hidden_size2': 26, 'hidden_size3': 27}. Best is trial 0 with value: 0.0.\n"
     ]
    },
    {
     "name": "stdout",
     "output_type": "stream",
     "text": [
      "Early stopping at Epoch 7256 due to small gradients.\n"
     ]
    },
    {
     "name": "stderr",
     "output_type": "stream",
     "text": [
      "[I 2023-11-28 15:41:25,583] Trial 60 finished with value: 0.0 and parameters: {'hidden_size1': 19, 'hidden_size2': 15, 'hidden_size3': 30}. Best is trial 0 with value: 0.0.\n"
     ]
    },
    {
     "name": "stdout",
     "output_type": "stream",
     "text": [
      "Early stopping at Epoch 6474 due to small gradients.\n"
     ]
    },
    {
     "name": "stderr",
     "output_type": "stream",
     "text": [
      "[I 2023-11-28 15:41:32,624] Trial 61 finished with value: 0.0 and parameters: {'hidden_size1': 24, 'hidden_size2': 13, 'hidden_size3': 5}. Best is trial 0 with value: 0.0.\n"
     ]
    },
    {
     "name": "stdout",
     "output_type": "stream",
     "text": [
      "Early stopping at Epoch 12405 due to small gradients.\n"
     ]
    },
    {
     "name": "stderr",
     "output_type": "stream",
     "text": [
      "[I 2023-11-28 15:41:40,012] Trial 62 finished with value: 0.0 and parameters: {'hidden_size1': 29, 'hidden_size2': 11, 'hidden_size3': 6}. Best is trial 0 with value: 0.0.\n"
     ]
    },
    {
     "name": "stdout",
     "output_type": "stream",
     "text": [
      "Early stopping at Epoch 13095 due to small gradients.\n"
     ]
    },
    {
     "name": "stderr",
     "output_type": "stream",
     "text": [
      "[I 2023-11-28 15:41:47,560] Trial 63 finished with value: 0.0 and parameters: {'hidden_size1': 21, 'hidden_size2': 18, 'hidden_size3': 4}. Best is trial 0 with value: 0.0.\n"
     ]
    },
    {
     "name": "stdout",
     "output_type": "stream",
     "text": [
      "Early stopping at Epoch 13311 due to small gradients.\n"
     ]
    },
    {
     "name": "stderr",
     "output_type": "stream",
     "text": [
      "[I 2023-11-28 15:41:52,828] Trial 64 finished with value: 0.0 and parameters: {'hidden_size1': 26, 'hidden_size2': 10, 'hidden_size3': 12}. Best is trial 0 with value: 0.0.\n"
     ]
    },
    {
     "name": "stdout",
     "output_type": "stream",
     "text": [
      "Early stopping at Epoch 9388 due to small gradients.\n"
     ]
    },
    {
     "name": "stderr",
     "output_type": "stream",
     "text": [
      "[I 2023-11-28 15:41:58,403] Trial 65 finished with value: 0.0 and parameters: {'hidden_size1': 31, 'hidden_size2': 16, 'hidden_size3': 10}. Best is trial 0 with value: 0.0.\n"
     ]
    },
    {
     "name": "stdout",
     "output_type": "stream",
     "text": [
      "Early stopping at Epoch 9793 due to small gradients.\n"
     ]
    },
    {
     "name": "stderr",
     "output_type": "stream",
     "text": [
      "[I 2023-11-28 15:42:08,115] Trial 66 finished with value: 0.0 and parameters: {'hidden_size1': 28, 'hidden_size2': 7, 'hidden_size3': 2}. Best is trial 0 with value: 0.0.\n"
     ]
    },
    {
     "name": "stdout",
     "output_type": "stream",
     "text": [
      "Early stopping at Epoch 17176 due to small gradients.\n"
     ]
    },
    {
     "name": "stderr",
     "output_type": "stream",
     "text": [
      "[I 2023-11-28 15:42:14,458] Trial 67 finished with value: 0.0 and parameters: {'hidden_size1': 22, 'hidden_size2': 32, 'hidden_size3': 8}. Best is trial 0 with value: 0.0.\n"
     ]
    },
    {
     "name": "stdout",
     "output_type": "stream",
     "text": [
      "Early stopping at Epoch 11043 due to small gradients.\n"
     ]
    },
    {
     "name": "stderr",
     "output_type": "stream",
     "text": [
      "[I 2023-11-28 15:42:17,927] Trial 68 finished with value: 0.0 and parameters: {'hidden_size1': 24, 'hidden_size2': 13, 'hidden_size3': 31}. Best is trial 0 with value: 0.0.\n"
     ]
    },
    {
     "name": "stdout",
     "output_type": "stream",
     "text": [
      "Early stopping at Epoch 6050 due to small gradients.\n"
     ]
    },
    {
     "name": "stderr",
     "output_type": "stream",
     "text": [
      "[I 2023-11-28 15:42:21,699] Trial 69 finished with value: 0.0 and parameters: {'hidden_size1': 2, 'hidden_size2': 20, 'hidden_size3': 29}. Best is trial 0 with value: 0.0.\n"
     ]
    },
    {
     "name": "stdout",
     "output_type": "stream",
     "text": [
      "Early stopping at Epoch 6580 due to small gradients.\n"
     ]
    },
    {
     "name": "stderr",
     "output_type": "stream",
     "text": [
      "[I 2023-11-28 15:42:25,965] Trial 70 finished with value: 0.0 and parameters: {'hidden_size1': 25, 'hidden_size2': 17, 'hidden_size3': 20}. Best is trial 0 with value: 0.0.\n"
     ]
    },
    {
     "name": "stdout",
     "output_type": "stream",
     "text": [
      "Early stopping at Epoch 7463 due to small gradients.\n"
     ]
    },
    {
     "name": "stderr",
     "output_type": "stream",
     "text": [
      "[I 2023-11-28 15:42:33,131] Trial 71 finished with value: 0.0 and parameters: {'hidden_size1': 12, 'hidden_size2': 4, 'hidden_size3': 7}. Best is trial 0 with value: 0.0.\n"
     ]
    },
    {
     "name": "stdout",
     "output_type": "stream",
     "text": [
      "Early stopping at Epoch 13115 due to small gradients.\n"
     ]
    },
    {
     "name": "stderr",
     "output_type": "stream",
     "text": [
      "[I 2023-11-28 15:42:38,090] Trial 72 finished with value: 0.0 and parameters: {'hidden_size1': 17, 'hidden_size2': 3, 'hidden_size3': 14}. Best is trial 0 with value: 0.0.\n"
     ]
    },
    {
     "name": "stdout",
     "output_type": "stream",
     "text": [
      "Early stopping at Epoch 8871 due to small gradients.\n"
     ]
    },
    {
     "name": "stderr",
     "output_type": "stream",
     "text": [
      "[I 2023-11-28 15:42:45,393] Trial 73 finished with value: 0.0 and parameters: {'hidden_size1': 15, 'hidden_size2': 6, 'hidden_size3': 4}. Best is trial 0 with value: 0.0.\n"
     ]
    },
    {
     "name": "stdout",
     "output_type": "stream",
     "text": [
      "Early stopping at Epoch 13217 due to small gradients.\n"
     ]
    },
    {
     "name": "stderr",
     "output_type": "stream",
     "text": [
      "[I 2023-11-28 15:42:50,894] Trial 74 finished with value: 0.0 and parameters: {'hidden_size1': 18, 'hidden_size2': 8, 'hidden_size3': 9}. Best is trial 0 with value: 0.0.\n"
     ]
    },
    {
     "name": "stdout",
     "output_type": "stream",
     "text": [
      "Early stopping at Epoch 9760 due to small gradients.\n"
     ]
    },
    {
     "name": "stderr",
     "output_type": "stream",
     "text": [
      "[I 2023-11-28 15:42:56,070] Trial 75 finished with value: 0.0 and parameters: {'hidden_size1': 16, 'hidden_size2': 4, 'hidden_size3': 11}. Best is trial 0 with value: 0.0.\n"
     ]
    },
    {
     "name": "stdout",
     "output_type": "stream",
     "text": [
      "Early stopping at Epoch 9352 due to small gradients.\n"
     ]
    },
    {
     "name": "stderr",
     "output_type": "stream",
     "text": [
      "[I 2023-11-28 15:42:59,438] Trial 76 finished with value: 0.0 and parameters: {'hidden_size1': 14, 'hidden_size2': 22, 'hidden_size3': 32}. Best is trial 0 with value: 0.0.\n"
     ]
    },
    {
     "name": "stdout",
     "output_type": "stream",
     "text": [
      "Early stopping at Epoch 5849 due to small gradients.\n"
     ]
    },
    {
     "name": "stderr",
     "output_type": "stream",
     "text": [
      "[I 2023-11-28 15:43:04,150] Trial 77 finished with value: 0.0 and parameters: {'hidden_size1': 20, 'hidden_size2': 10, 'hidden_size3': 18}. Best is trial 0 with value: 0.0.\n"
     ]
    },
    {
     "name": "stdout",
     "output_type": "stream",
     "text": [
      "Early stopping at Epoch 8336 due to small gradients.\n"
     ]
    },
    {
     "name": "stderr",
     "output_type": "stream",
     "text": [
      "[I 2023-11-28 15:43:07,843] Trial 78 finished with value: 0.0 and parameters: {'hidden_size1': 9, 'hidden_size2': 5, 'hidden_size3': 27}. Best is trial 0 with value: 0.0.\n"
     ]
    },
    {
     "name": "stdout",
     "output_type": "stream",
     "text": [
      "Early stopping at Epoch 6537 due to small gradients.\n"
     ]
    },
    {
     "name": "stderr",
     "output_type": "stream",
     "text": [
      "[I 2023-11-28 15:43:14,475] Trial 79 finished with value: 0.0 and parameters: {'hidden_size1': 31, 'hidden_size2': 18, 'hidden_size3': 6}. Best is trial 0 with value: 0.0.\n"
     ]
    },
    {
     "name": "stdout",
     "output_type": "stream",
     "text": [
      "Early stopping at Epoch 11719 due to small gradients.\n"
     ]
    },
    {
     "name": "stderr",
     "output_type": "stream",
     "text": [
      "[I 2023-11-28 15:43:19,862] Trial 80 finished with value: 0.0 and parameters: {'hidden_size1': 23, 'hidden_size2': 30, 'hidden_size3': 12}. Best is trial 0 with value: 0.0.\n"
     ]
    },
    {
     "name": "stdout",
     "output_type": "stream",
     "text": [
      "Early stopping at Epoch 9411 due to small gradients.\n"
     ]
    },
    {
     "name": "stderr",
     "output_type": "stream",
     "text": [
      "[I 2023-11-28 15:43:23,370] Trial 81 finished with value: 0.0 and parameters: {'hidden_size1': 27, 'hidden_size2': 20, 'hidden_size3': 30}. Best is trial 0 with value: 0.0.\n"
     ]
    },
    {
     "name": "stdout",
     "output_type": "stream",
     "text": [
      "Early stopping at Epoch 6128 due to small gradients.\n"
     ]
    },
    {
     "name": "stderr",
     "output_type": "stream",
     "text": [
      "[I 2023-11-28 15:43:27,310] Trial 82 finished with value: 0.0 and parameters: {'hidden_size1': 26, 'hidden_size2': 19, 'hidden_size3': 29}. Best is trial 0 with value: 0.0.\n"
     ]
    },
    {
     "name": "stdout",
     "output_type": "stream",
     "text": [
      "Early stopping at Epoch 6665 due to small gradients.\n"
     ]
    },
    {
     "name": "stderr",
     "output_type": "stream",
     "text": [
      "[I 2023-11-28 15:43:31,183] Trial 83 finished with value: 0.0 and parameters: {'hidden_size1': 28, 'hidden_size2': 15, 'hidden_size3': 28}. Best is trial 0 with value: 0.0.\n"
     ]
    },
    {
     "name": "stdout",
     "output_type": "stream",
     "text": [
      "Early stopping at Epoch 6672 due to small gradients.\n"
     ]
    },
    {
     "name": "stderr",
     "output_type": "stream",
     "text": [
      "[I 2023-11-28 15:43:34,687] Trial 84 finished with value: 0.0 and parameters: {'hidden_size1': 13, 'hidden_size2': 22, 'hidden_size3': 31}. Best is trial 0 with value: 0.0.\n"
     ]
    },
    {
     "name": "stdout",
     "output_type": "stream",
     "text": [
      "Early stopping at Epoch 6023 due to small gradients.\n"
     ]
    },
    {
     "name": "stderr",
     "output_type": "stream",
     "text": [
      "[I 2023-11-28 15:43:38,715] Trial 85 finished with value: 0.0 and parameters: {'hidden_size1': 29, 'hidden_size2': 27, 'hidden_size3': 24}. Best is trial 0 with value: 0.0.\n"
     ]
    },
    {
     "name": "stdout",
     "output_type": "stream",
     "text": [
      "Early stopping at Epoch 7021 due to small gradients.\n"
     ]
    },
    {
     "name": "stderr",
     "output_type": "stream",
     "text": [
      "[I 2023-11-28 15:43:42,794] Trial 86 finished with value: 0.0 and parameters: {'hidden_size1': 26, 'hidden_size2': 24, 'hidden_size3': 32}. Best is trial 0 with value: 0.0.\n"
     ]
    },
    {
     "name": "stdout",
     "output_type": "stream",
     "text": [
      "Early stopping at Epoch 7146 due to small gradients.\n"
     ]
    },
    {
     "name": "stderr",
     "output_type": "stream",
     "text": [
      "[I 2023-11-28 15:43:47,558] Trial 87 finished with value: 0.0 and parameters: {'hidden_size1': 23, 'hidden_size2': 6, 'hidden_size3': 16}. Best is trial 0 with value: 0.0.\n"
     ]
    },
    {
     "name": "stdout",
     "output_type": "stream",
     "text": [
      "Early stopping at Epoch 8415 due to small gradients.\n"
     ]
    },
    {
     "name": "stderr",
     "output_type": "stream",
     "text": [
      "[I 2023-11-28 15:43:57,121] Trial 88 finished with value: 0.0 and parameters: {'hidden_size1': 21, 'hidden_size2': 14, 'hidden_size3': 3}. Best is trial 0 with value: 0.0.\n"
     ]
    },
    {
     "name": "stdout",
     "output_type": "stream",
     "text": [
      "Early stopping at Epoch 16824 due to small gradients.\n"
     ]
    },
    {
     "name": "stderr",
     "output_type": "stream",
     "text": [
      "[I 2023-11-28 15:44:01,399] Trial 89 finished with value: 0.0 and parameters: {'hidden_size1': 32, 'hidden_size2': 16, 'hidden_size3': 25}. Best is trial 0 with value: 0.0.\n"
     ]
    },
    {
     "name": "stdout",
     "output_type": "stream",
     "text": [
      "Early stopping at Epoch 7415 due to small gradients.\n"
     ]
    },
    {
     "name": "stderr",
     "output_type": "stream",
     "text": [
      "[I 2023-11-28 15:44:06,787] Trial 90 finished with value: 0.0 and parameters: {'hidden_size1': 11, 'hidden_size2': 8, 'hidden_size3': 21}. Best is trial 0 with value: 0.0.\n"
     ]
    },
    {
     "name": "stdout",
     "output_type": "stream",
     "text": [
      "Early stopping at Epoch 9186 due to small gradients.\n"
     ]
    },
    {
     "name": "stderr",
     "output_type": "stream",
     "text": [
      "[I 2023-11-28 15:44:10,716] Trial 91 finished with value: 0.0 and parameters: {'hidden_size1': 3, 'hidden_size2': 3, 'hidden_size3': 22}. Best is trial 0 with value: 0.0.\n"
     ]
    },
    {
     "name": "stdout",
     "output_type": "stream",
     "text": [
      "Early stopping at Epoch 6977 due to small gradients.\n"
     ]
    },
    {
     "name": "stderr",
     "output_type": "stream",
     "text": [
      "[I 2023-11-28 15:44:16,651] Trial 92 finished with value: 0.0 and parameters: {'hidden_size1': 5, 'hidden_size2': 2, 'hidden_size3': 19}. Best is trial 0 with value: 0.0.\n"
     ]
    },
    {
     "name": "stdout",
     "output_type": "stream",
     "text": [
      "Early stopping at Epoch 10750 due to small gradients.\n"
     ]
    },
    {
     "name": "stderr",
     "output_type": "stream",
     "text": [
      "[I 2023-11-28 15:44:20,837] Trial 93 finished with value: 0.0 and parameters: {'hidden_size1': 7, 'hidden_size2': 3, 'hidden_size3': 23}. Best is trial 0 with value: 0.0.\n"
     ]
    },
    {
     "name": "stdout",
     "output_type": "stream",
     "text": [
      "Early stopping at Epoch 7485 due to small gradients.\n"
     ]
    },
    {
     "name": "stderr",
     "output_type": "stream",
     "text": [
      "[I 2023-11-28 15:44:25,242] Trial 94 finished with value: 0.0 and parameters: {'hidden_size1': 17, 'hidden_size2': 19, 'hidden_size3': 26}. Best is trial 0 with value: 0.0.\n"
     ]
    },
    {
     "name": "stdout",
     "output_type": "stream",
     "text": [
      "Early stopping at Epoch 7729 due to small gradients.\n"
     ]
    },
    {
     "name": "stderr",
     "output_type": "stream",
     "text": [
      "[I 2023-11-28 15:44:29,142] Trial 95 finished with value: 0.0 and parameters: {'hidden_size1': 18, 'hidden_size2': 12, 'hidden_size3': 30}. Best is trial 0 with value: 0.0.\n"
     ]
    },
    {
     "name": "stdout",
     "output_type": "stream",
     "text": [
      "Early stopping at Epoch 6763 due to small gradients.\n"
     ]
    },
    {
     "name": "stderr",
     "output_type": "stream",
     "text": [
      "[I 2023-11-28 15:44:33,643] Trial 96 finished with value: 0.0 and parameters: {'hidden_size1': 29, 'hidden_size2': 4, 'hidden_size3': 18}. Best is trial 0 with value: 0.0.\n"
     ]
    },
    {
     "name": "stdout",
     "output_type": "stream",
     "text": [
      "Early stopping at Epoch 7844 due to small gradients.\n"
     ]
    },
    {
     "name": "stderr",
     "output_type": "stream",
     "text": [
      "[I 2023-11-28 15:44:38,581] Trial 97 finished with value: 0.0 and parameters: {'hidden_size1': 24, 'hidden_size2': 21, 'hidden_size3': 17}. Best is trial 0 with value: 0.0.\n"
     ]
    },
    {
     "name": "stdout",
     "output_type": "stream",
     "text": [
      "Early stopping at Epoch 8487 due to small gradients.\n"
     ]
    },
    {
     "name": "stderr",
     "output_type": "stream",
     "text": [
      "[I 2023-11-28 15:44:42,868] Trial 98 finished with value: 0.0 and parameters: {'hidden_size1': 30, 'hidden_size2': 5, 'hidden_size3': 23}. Best is trial 0 with value: 0.0.\n"
     ]
    },
    {
     "name": "stdout",
     "output_type": "stream",
     "text": [
      "Early stopping at Epoch 7392 due to small gradients.\n"
     ]
    },
    {
     "name": "stderr",
     "output_type": "stream",
     "text": [
      "[I 2023-11-28 15:44:46,903] Trial 99 finished with value: 0.0 and parameters: {'hidden_size1': 28, 'hidden_size2': 11, 'hidden_size3': 27}. Best is trial 0 with value: 0.0.\n"
     ]
    },
    {
     "name": "stdout",
     "output_type": "stream",
     "text": [
      "Early stopping at Epoch 6973 due to small gradients.\n",
      "Best hyperparameters: {'hidden_size1': 29, 'hidden_size2': 5, 'hidden_size3': 29}\n",
      "Best metric value: 0.0\n"
     ]
    }
   ],
   "source": [
    "def objective_binary(trial):\n",
    "    # Define the search space\n",
    "    hidden_size1 = trial.suggest_int('hidden_size1', 2, 32)\n",
    "    hidden_size2 = trial.suggest_int('hidden_size2', 2, 32)\n",
    "    hidden_size3 = trial.suggest_int('hidden_size3', 2, 32)\n",
    "\n",
    "    model_base_c = GeneralLogisticNN(\n",
    "        input_size=input,\n",
    "        hidden_size1=hidden_size1,\n",
    "        hidden_size2=hidden_size2,\n",
    "        hidden_size3=hidden_size3,\n",
    "        output_size=output\n",
    "    )\n",
    "\n",
    "    tr = BinaryTrainNN(model=model_base_c, x=X, y=y, gradient_threshold=0.0005, learning_rate=0.001)\n",
    "    loss_func = LossFunction(bce=True)\n",
    "    model_final, epoch_loss = tr.nn_training(loss_func=loss_func)\n",
    "    model_final.binarise_model(layer=3)\n",
    "    y_pred = model_final.predict_binary(X)\n",
    "    y_pred = np.where(y_pred>=0.5, 1, 0)\n",
    "    loss = zero_one_loss(y,y_pred)\n",
    "\n",
    "    return loss\n",
    "\n",
    "# Create an Optuna study\n",
    "study = optuna.create_study(direction='minimize')\n",
    "\n",
    "# Start the optimization process\n",
    "study.optimize(objective, n_trials=100)\n",
    "\n",
    "# Print the best hyperparameters and metric\n",
    "print('Best hyperparameters:', study.best_params)\n",
    "print('Best metric value:', study.best_value)"
   ]
  },
  {
   "cell_type": "code",
   "execution_count": null,
   "metadata": {},
   "outputs": [],
   "source": [
    "y = octet_selected[['Delta E']].to_numpy()\n",
    "def objective_regression(trial):\n",
    "    # Define the search space\n",
    "    hidden_size1 = trial.suggest_categorical('hidden_size1', [4, 6, 8, 16, 32])\n",
    "    hidden_size2 = trial.suggest_categorical('hidden_size2', [4, 6, 8, 16, 32])\n",
    "    hidden_size3 = trial.suggest_categorical('hidden_size3', [4, 6, 8, 16])\n",
    "\n",
    "    model_base_c =GeneralRegressionNN(\n",
    "        input_size=input,\n",
    "        hidden_size1=hidden_size1,\n",
    "        hidden_size2=hidden_size2,\n",
    "        hidden_size3=hidden_size3,\n",
    "        output_size=output\n",
    "    )\n",
    "\n",
    "    tr = TrainNN(model=model_base_c, x=X, y=y, gradient_threshold=0.005, learning_rate=0.0001)\n",
    "    loss_func = LossFunction(mse=True, l1_lambda=0.001)\n",
    "    model_final, epoch_loss = tr.nn_training(loss_func=loss_func)\n",
    "    y_pred = model_final.predict(X)\n",
    "    # y_pred = np.where(y_pred>=0.5, 1, 0)\n",
    "    loss = np.mean((y-y_pred)**2)\n",
    "\n",
    "    return loss\n",
    "\n",
    "# Create an Optuna study\n",
    "study = optuna.create_study(direction='minimize')\n",
    "\n",
    "# Start the optimization process\n",
    "study.optimize(objective_regression, n_trials=50)\n",
    "\n",
    "# Print the best hyperparameters and metric\n",
    "print('Best hyperparameters:', study.best_params)\n",
    "print('Best metric value:', study.best_value)"
   ]
  }
 ],
 "metadata": {
  "kernelspec": {
   "display_name": "Python 3",
   "language": "python",
   "name": "python3"
  },
  "language_info": {
   "codemirror_mode": {
    "name": "ipython",
    "version": 3
   },
   "file_extension": ".py",
   "mimetype": "text/x-python",
   "name": "python",
   "nbconvert_exporter": "python",
   "pygments_lexer": "ipython3",
   "version": "3.10.2"
  },
  "orig_nbformat": 4
 },
 "nbformat": 4,
 "nbformat_minor": 2
}
